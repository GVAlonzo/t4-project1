{
 "cells": [
  {
   "cell_type": "markdown",
   "id": "48db7e1f",
   "metadata": {},
   "source": [
    "TO-DOs:\n",
    "\n",
    "INCIDENT FILE\n",
    "- Parse-out the time from the date/time columns\n",
    "- Calculate the arrival times\n",
    "\n",
    "STATION FILE\n",
    "- TBD?\n",
    "\n",
    "\n",
    "ASSIGNMENTS:\n",
    "- Google map the CLV station on a map?  (Margot)\n"
   ]
  },
  {
   "cell_type": "code",
   "execution_count": null,
   "id": "3c09c0c8",
   "metadata": {},
   "outputs": [],
   "source": [
    "%matplotlib notebook\n",
    "%matplotlib inline"
   ]
  },
  {
   "cell_type": "code",
   "execution_count": null,
   "id": "9153d8fb",
   "metadata": {},
   "outputs": [],
   "source": [
    "# DEPENDENCIES\n",
    "import matplotlib.pyplot as plt\n",
    "import numpy as np\n",
    "import pandas as pd\n",
    "from datetime import datetime\n",
    "\n",
    "# Declare variables for each CSV file\n",
    "incident_file_df1114 = \"data/Fire_Department_Incident_Count - 2011-2014.csv\"\n",
    "incident_file_df1516 = \"data/Fire_Department_Incident_Count - 2015-2016.csv\"\n",
    "incident_file_df1718 = \"data/Fire_Department_Incident_Count - 2017-2018.csv\"\n",
    "fire_station_data =  \"data/Clark_County_Fire_Stations.csv\""
   ]
  },
  {
   "cell_type": "markdown",
   "id": "a49bebbb",
   "metadata": {},
   "source": [
    "PROCESS INCIDENT DATA HERE"
   ]
  },
  {
   "cell_type": "code",
   "execution_count": null,
   "id": "8169c399",
   "metadata": {},
   "outputs": [],
   "source": [
    "# Step 1: bring-in 2011-2014 data into a df\n",
    "\n",
    "incident_file_df1114 = pd.read_csv(incident_file_df1114)\n",
    "print(f\"# of rows in 2011-2014 DF: {len(incident_file_df1114)}\")"
   ]
  },
  {
   "cell_type": "code",
   "execution_count": null,
   "id": "d610084c",
   "metadata": {},
   "outputs": [],
   "source": [
    "# Step 2: bring-in 2015 - 2015 data into a df\n",
    "\n",
    "incident_file_df1516 = pd.read_csv(incident_file_df1516)\n",
    "print(f\"# of rows in 2014-2015 DF: {len(incident_file_df1516)}\")"
   ]
  },
  {
   "cell_type": "code",
   "execution_count": null,
   "id": "88d84e10",
   "metadata": {},
   "outputs": [],
   "source": [
    "# Step 3: bring-in 2016-2018 data into a df\n",
    "\n",
    "incident_file_df1718 = pd.read_csv(incident_file_df1718)\n",
    "print(f\"# of rows in 2017-2018 file: {len(incident_file_df1718)}\")"
   ]
  },
  {
   "cell_type": "code",
   "execution_count": null,
   "id": "a9d219d4",
   "metadata": {},
   "outputs": [],
   "source": [
    "# Concatonate previous DFs into a single dataframe\n",
    "\n",
    "incident_file_df = pd.concat([incident_file_df1114, incident_file_df1516, incident_file_df1718])\n",
    "print(f\"# of rows in complete file: {len(incident_file_df)}\")"
   ]
  },
  {
   "cell_type": "code",
   "execution_count": null,
   "id": "24ac60c8",
   "metadata": {},
   "outputs": [],
   "source": [
    "incident_file_df.count()\n",
    "\n",
    "# Possibly delete rows with a missing Assign_Time??"
   ]
  },
  {
   "cell_type": "code",
   "execution_count": null,
   "id": "b251fc9e",
   "metadata": {},
   "outputs": [],
   "source": [
    "# Drop all rows with missing information\n",
    "#incident_file_df = incident_file_df.dropna(how='any')\n",
    "\n",
    "# *** I DON'T THINK WE WANT TO DO THIS ***"
   ]
  },
  {
   "cell_type": "code",
   "execution_count": null,
   "id": "126c2853",
   "metadata": {},
   "outputs": [],
   "source": [
    "incident_file_lean_df = incident_file_df[[\"Station\",\"Response_Date\",\"Event_Type\",\"First_Unit_Assigned\",\"First_Unit_Arrived\",\"Location\",\"Location_1\"]]\n",
    "incident_file_lean_df.head()"
   ]
  },
  {
   "cell_type": "code",
   "execution_count": null,
   "id": "32864b32",
   "metadata": {},
   "outputs": [],
   "source": [
    "# Create new df for rows that DO NOT contain 'none' in the First_Unit_Arrived column\n",
    "incident_file_clean_df = incident_file_lean_df[incident_file_lean_df[\"First_Unit_Arrived\"] != \"None\"]\n",
    "incident_file_clean_df.count()"
   ]
  },
  {
   "cell_type": "code",
   "execution_count": null,
   "id": "4594ceb6",
   "metadata": {},
   "outputs": [],
   "source": [
    "incident_file_clean_df.head()"
   ]
  },
  {
   "cell_type": "code",
   "execution_count": null,
   "id": "25cfe437",
   "metadata": {},
   "outputs": [],
   "source": [
    "incident_file_clean_df[\"Assigned Time\"] = \"TBD\""
   ]
  },
  {
   "cell_type": "code",
   "execution_count": null,
   "id": "9926b54f",
   "metadata": {
    "scrolled": true
   },
   "outputs": [],
   "source": [
    "incident_file_clean_df.head()"
   ]
  },
  {
   "cell_type": "code",
   "execution_count": null,
   "id": "98a8ebb4",
   "metadata": {},
   "outputs": [],
   "source": []
  },
  {
   "cell_type": "markdown",
   "id": "6c939907",
   "metadata": {},
   "source": [
    "PROCESS FIRE STATION DATA"
   ]
  },
  {
   "cell_type": "code",
   "execution_count": null,
   "id": "e4ca358d",
   "metadata": {},
   "outputs": [],
   "source": [
    "# Bring-in fire station data\n",
    "station_df = pd.read_csv(fire_station_data)\n",
    "print(f\"# of rows in the Station data file: {len(station_df)}\")\n",
    "#station_df.head()"
   ]
  },
  {
   "cell_type": "code",
   "execution_count": null,
   "id": "bebb1a27",
   "metadata": {},
   "outputs": [],
   "source": [
    "distinct_stations = incident_file_clean_df[\"Station\"].unique()\n",
    "clv_stations_df = station_df[station_df[\"CITY_CODE\"] == \"CLV\"]\n",
    "#clv_stations_df"
   ]
  },
  {
   "cell_type": "code",
   "execution_count": null,
   "id": "bb85dade",
   "metadata": {},
   "outputs": [],
   "source": [
    "incident_file_clean_df[\"First_Unit_Assigned\"] = pd.to_datetime(incident_file_clean_df[\"First_Unit_Assigned\"])"
   ]
  },
  {
   "cell_type": "code",
   "execution_count": null,
   "id": "3dfcdd75",
   "metadata": {},
   "outputs": [],
   "source": [
    "incident_file_clean_df[\"First_Unit_Assigned\"]"
   ]
  },
  {
   "cell_type": "code",
   "execution_count": null,
   "id": "491b0b8c",
   "metadata": {},
   "outputs": [],
   "source": [
    "incident_file_clean_df.head()"
   ]
  },
  {
   "cell_type": "code",
   "execution_count": null,
   "id": "1cf58b1f",
   "metadata": {},
   "outputs": [],
   "source": [
    "Stations = incident_file_clean_df[\"Station\"].value_counts()"
   ]
  },
  {
   "cell_type": "code",
   "execution_count": null,
   "id": "a6de9124",
   "metadata": {},
   "outputs": [],
   "source": [
    "Stations.head(20)"
   ]
  },
  {
   "cell_type": "code",
   "execution_count": null,
   "id": "9924f645",
   "metadata": {},
   "outputs": [],
   "source": [
    "plot_pandas= Stations.plot(kind = \"bar\", color = 'red')\n",
    "plt.xlabel('Station')\n",
    "plt.ylabel('Number of Calls')\n",
    "plt.title(\"Amount of Calls by Station\")\n",
    "plt.show()"
   ]
  },
  {
   "cell_type": "code",
   "execution_count": null,
   "id": "1b5b941a",
   "metadata": {},
   "outputs": [],
   "source": []
  },
  {
   "cell_type": "code",
   "execution_count": null,
   "id": "3b1e5136",
   "metadata": {},
   "outputs": [],
   "source": [
    "#Analyzing incidents by Event Type\n",
    "Calls = incident_file_clean_df[\"Event_Type\"].value_counts()"
   ]
  },
  {
   "cell_type": "code",
   "execution_count": null,
   "id": "d1a370b3",
   "metadata": {},
   "outputs": [],
   "source": [
    "Calls"
   ]
  },
  {
   "cell_type": "code",
   "execution_count": null,
   "id": "b9d62fe9",
   "metadata": {
    "scrolled": true
   },
   "outputs": [],
   "source": [
    "Calls.plot(kind='pie', y='Event_Type', startangle = 360, autopct ='%1.1f%%' )\n",
    "plt.title(\"Event Types\")\n",
    "plt.show()"
   ]
  },
  {
   "cell_type": "code",
   "execution_count": null,
   "id": "b15bdb3b",
   "metadata": {},
   "outputs": [],
   "source": [
    "incident_file_clean_df.loc[incident_file_clean_df[\"Event_Type\"] == \"Medical\"]"
   ]
  },
  {
   "cell_type": "code",
   "execution_count": null,
   "id": "2b3fcf58",
   "metadata": {},
   "outputs": [],
   "source": []
  }
 ],
 "metadata": {
  "kernelspec": {
   "display_name": "Python 3",
   "language": "python",
   "name": "python3"
  },
  "language_info": {
   "codemirror_mode": {
    "name": "ipython",
    "version": 3
   },
   "file_extension": ".py",
   "mimetype": "text/x-python",
   "name": "python",
   "nbconvert_exporter": "python",
   "pygments_lexer": "ipython3",
   "version": "3.8.8"
  }
 },
 "nbformat": 4,
 "nbformat_minor": 5
}
