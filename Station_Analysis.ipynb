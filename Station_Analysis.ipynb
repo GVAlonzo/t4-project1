{
 "cells": [
  {
   "cell_type": "markdown",
   "id": "48db7e1f",
   "metadata": {},
   "source": [
    "TO-DOs:\n",
    "\n",
    "INCIDENT FILE\n",
    "- COMPLETED: Parse-out the time from the date/time columns  (Converted to datetime)\n",
    "- COMPLETED: Calculate the arrival times\n",
    "- COMPLETED: Create FINAL dataframe for our assignments\n",
    "\n",
    "STATION FILE\n",
    "- COMPLETED: Only contain CLV stations\n",
    "\n",
    "\n",
    "ASSIGNMENTS:\n",
    "- COMPLETE: Google map the CLV station on a map?  (Margot)\n",
    "- OPTIONAL: Add clicable names to the pins?  (Margot)\n",
    "- COMPLETED: Pie chart for incident type (Saeger)\n",
    "- COMPLETED: Bar chart by incident count for each station (Saeger)\n",
    "- COMPLETED: Bar chart by response time for each station (Saeger)\n",
    "- COMPLETED: Hypothesis Testing (Anji)\n",
    "        - Boxplots?\n",
    "        - Determine Mean vs Median based on number of outliers?\n",
    "- COMPLETED: Trends - number of incidents by month compared to previous years (George)\n",
    "- COMPLETED: Trends - Avg response time by month compared to previous years (George)\n",
    "- ?: Pick the highest performing station (lowest avg response times) vs least performing station (highest avg response times)  and look into why  (Further charting for each?)\n",
    "- TBD: Quality control & code clean-up\n"
   ]
  },
  {
   "cell_type": "code",
   "execution_count": null,
   "id": "9153d8fb",
   "metadata": {},
   "outputs": [],
   "source": [
    "# DEPENDENCIES\n",
    "%matplotlib inline\n",
    "\n",
    "import matplotlib.pyplot as plt\n",
    "import numpy as np\n",
    "import pandas as pd\n",
    "from datetime import datetime\n",
    "import requests\n",
    "import json\n",
    "\n",
    "# Declare variables for each CSV file\n",
    "incident_file_df1114 = \"data/Fire_Department_Incident_Count - 2011-2014.csv\"\n",
    "incident_file_df1516 = \"data/Fire_Department_Incident_Count - 2015-2016.csv\"\n",
    "incident_file_df1718 = \"data/Fire_Department_Incident_Count - 2017-2018.csv\"\n",
    "fire_station_data =  \"data/Clark_County_Fire_Stations.csv\"\n",
    "\n",
    "#import gmaps\n",
    "import gmaps\n",
    "\n",
    "# Import API key\n",
    "from configure import g_key"
   ]
  },
  {
   "cell_type": "markdown",
   "id": "a49bebbb",
   "metadata": {},
   "source": [
    "PROCESS INCIDENT DATA HERE"
   ]
  },
  {
   "cell_type": "code",
   "execution_count": null,
   "id": "8169c399",
   "metadata": {},
   "outputs": [],
   "source": [
    "# Step 1: bring-in 2011-2014 data into a df\n",
    "\n",
    "incident_file_df1718 = pd.read_csv(incident_file_df1718)\n",
    "print(f\"# of rows in 2017-2018 DF: {len(incident_file_df1718)}\")\n",
    "\n",
    "incident_file_df1516 = pd.read_csv(incident_file_df1516)\n",
    "print(f\"# of rows in 2014-2015 DF: {len(incident_file_df1516)}\")\n",
    "\n",
    "incident_file_df1114 = pd.read_csv(incident_file_df1114)\n",
    "print(f\"# of rows in 2011-2014 DF: {len(incident_file_df1114)}\")"
   ]
  },
  {
   "cell_type": "code",
   "execution_count": null,
   "id": "a9d219d4",
   "metadata": {},
   "outputs": [],
   "source": [
    "# Concatonate previous DFs into a single dataframe\n",
    "\n",
    "incident_file_df = pd.concat([incident_file_df1114, incident_file_df1516, incident_file_df1718])\n",
    "incident_file_df = incident_file_df.dropna(how='any')\n",
    "print(f\"# of rows in complete file: {len(incident_file_df)}\")"
   ]
  },
  {
   "cell_type": "code",
   "execution_count": null,
   "id": "126c2853",
   "metadata": {},
   "outputs": [],
   "source": [
    "# New 'lean' DF with only the required columns and ignore the others\n",
    "\n",
    "incident_file_lean_df = incident_file_df[[\"Station\",\"Response_Date\",\"Event_Type\",\"First_Unit_Assigned\",\"First_Unit_Arrived\",\"Location\",\"Location_1\"]]\n",
    "incident_file_lean_df.head()"
   ]
  },
  {
   "cell_type": "code",
   "execution_count": null,
   "id": "32864b32",
   "metadata": {},
   "outputs": [],
   "source": [
    "# Create new df for rows that DO NOT contain 'none' in the First_Unit_Arrived column\n",
    "\n",
    "print(f\"Number of rows BEFORE clean-up: {len(incident_file_lean_df)}\")\n",
    "incident_file_clean_df = incident_file_lean_df[incident_file_lean_df[\"First_Unit_Arrived\"] != \"None\"]\n",
    "print(f\"Number of rows AFTER clean-up: {len(incident_file_clean_df)}\")\n",
    "incident_file_clean_df = incident_file_clean_df.drop_duplicates()\n",
    "print(f\"Number of rows AFTER drop_duplicates: {len(incident_file_clean_df)}\")\n",
    "incident_file_clean_df.head()"
   ]
  },
  {
   "cell_type": "code",
   "execution_count": null,
   "id": "f3eaf6a8",
   "metadata": {},
   "outputs": [],
   "source": [
    "# Convert Assigned & Arrived times to DateTime, remove timezones\n",
    "incident_file_clean_df[\"First_Unit_Assigned\"] = pd.to_datetime(incident_file_clean_df[\"First_Unit_Assigned\"])\n",
    "incident_file_clean_df[\"First_Unit_Arrived\"] = pd.to_datetime(incident_file_clean_df[\"First_Unit_Arrived\"])\n",
    "incident_file_clean_df[\"First_Unit_Assigned\"] = incident_file_clean_df[\"First_Unit_Assigned\"].dt.tz_localize(None)\n",
    "incident_file_clean_df.head()"
   ]
  },
  {
   "cell_type": "code",
   "execution_count": null,
   "id": "4dc1d428",
   "metadata": {
    "scrolled": true
   },
   "outputs": [],
   "source": [
    "# Calculate Response Time column\n",
    "incident_file_clean_df[\"Response Time\"] = (incident_file_clean_df[\"First_Unit_Arrived\"] - \n",
    "                                           incident_file_clean_df[\"First_Unit_Assigned\"]).astype('timedelta64[m]')\n",
    "incident_file_clean_df.head()"
   ]
  },
  {
   "cell_type": "code",
   "execution_count": null,
   "id": "3f55c29d",
   "metadata": {},
   "outputs": [],
   "source": [
    "#Create FINAL, cleaned dataframe, ready for analysis, charts, maps, and hypothesis testing!!!\n",
    "print(f\"Rows BEFORE final clean-up: {len(incident_file_clean_df)}\")\n",
    "incident_file_final_df = incident_file_clean_df[incident_file_clean_df[\"First_Unit_Arrived\"] > \n",
    "                                                incident_file_clean_df[\"First_Unit_Assigned\"]]\n",
    "print(f\"Rows AFTER final clean-up: {len(incident_file_final_df)}\")\n",
    "incident_file_final_df.head()"
   ]
  },
  {
   "cell_type": "markdown",
   "id": "6c939907",
   "metadata": {},
   "source": [
    "PROCESS FIRE STATION DATA (MARGOT'S SECTION)"
   ]
  },
  {
   "cell_type": "code",
   "execution_count": null,
   "id": "e4ca358d",
   "metadata": {},
   "outputs": [],
   "source": [
    "# Bring-in fire station data\n",
    "station_df = pd.read_csv(fire_station_data)\n",
    "print(f\"# of rows in the Station data file: {len(station_df)}\")\n",
    "#station_df.head()"
   ]
  },
  {
   "cell_type": "code",
   "execution_count": null,
   "id": "bebb1a27",
   "metadata": {
    "scrolled": true
   },
   "outputs": [],
   "source": [
    "distinct_stations = incident_file_final_df[\"Station\"].unique()\n",
    "clv_stations_df = station_df[station_df[\"CITY_CODE\"] == \"CLV\"]\n",
    "clv_stations_df.head()"
   ]
  },
  {
   "cell_type": "markdown",
   "id": "a5ee456b",
   "metadata": {},
   "source": [
    "INCIDENT TYPES & COUNTS (SAEGER)"
   ]
  },
  {
   "cell_type": "code",
   "execution_count": null,
   "id": "a85b80b7",
   "metadata": {},
   "outputs": [],
   "source": [
    "incident_file_final_df[\"First_Unit_Assigned\"]"
   ]
  },
  {
   "cell_type": "code",
   "execution_count": null,
   "id": "491b0b8c",
   "metadata": {},
   "outputs": [],
   "source": [
    "incident_file_final_df.head()"
   ]
  },
  {
   "cell_type": "code",
   "execution_count": null,
   "id": "1cf58b1f",
   "metadata": {},
   "outputs": [],
   "source": [
    "Stations = incident_file_final_df[\"Station\"].value_counts()"
   ]
  },
  {
   "cell_type": "code",
   "execution_count": null,
   "id": "a6de9124",
   "metadata": {},
   "outputs": [],
   "source": [
    "Stations.head(20)"
   ]
  },
  {
   "cell_type": "code",
   "execution_count": null,
   "id": "9924f645",
   "metadata": {},
   "outputs": [],
   "source": [
    "plot_pandas= Stations.plot(kind = \"bar\", color = 'red')\n",
    "plt.xlabel('Station')\n",
    "plt.ylabel('Number of Calls')\n",
    "plt.title(\"Amount of Total Calls by Station\")\n",
    "plt.show()"
   ]
  },
  {
   "cell_type": "code",
   "execution_count": null,
   "id": "59a0a6c2",
   "metadata": {},
   "outputs": [],
   "source": [
    "Medical_Incidents = incident_file_final_df.loc[incident_file_final_df[\"Event_Type\"] == \"Medical\"]\n",
    "Medical_Calls = Medical_Incidents[\"Station\"].value_counts()\n",
    "\n",
    "Medical_Calls.head()"
   ]
  },
  {
   "cell_type": "code",
   "execution_count": null,
   "id": "f8707edd",
   "metadata": {},
   "outputs": [],
   "source": [
    "Fire_Incidents = incident_file_final_df.loc[incident_file_final_df[\"Event_Type\"] == \"Fire\"]\n",
    "Fire_Calls = Fire_Incidents[\"Station\"].value_counts()\n",
    "\n",
    "Fire_Calls.head()"
   ]
  },
  {
   "cell_type": "code",
   "execution_count": null,
   "id": "066b0e20",
   "metadata": {},
   "outputs": [],
   "source": [
    "Public_Need_Incidents = incident_file_final_df.loc[incident_file_final_df[\"Event_Type\"] == \"Public Need\"]\n",
    "Public_Need_Calls = Public_Need_Incidents[\"Station\"].value_counts()\n",
    "\n",
    "Public_Need_Calls.head()"
   ]
  },
  {
   "cell_type": "code",
   "execution_count": null,
   "id": "2831aa27",
   "metadata": {},
   "outputs": [],
   "source": [
    "Other_Incidents = incident_file_final_df.loc[incident_file_final_df[\"Event_Type\"] == \"Other\"]\n",
    "Other_Calls = Other_Incidents[\"Station\"].value_counts()\n",
    "\n",
    "Other_Calls.head()"
   ]
  },
  {
   "cell_type": "code",
   "execution_count": null,
   "id": "798f87ab",
   "metadata": {},
   "outputs": [],
   "source": [
    "plot_pandas= Medical_Calls.plot(kind = \"bar\", color = 'blue')\n",
    "plt.xlabel('Station')\n",
    "plt.ylabel('Number of Calls')\n",
    "plt.title(\"Amount of Medical Calls by Station\")\n",
    "plt.show()"
   ]
  },
  {
   "cell_type": "code",
   "execution_count": null,
   "id": "f207ca18",
   "metadata": {},
   "outputs": [],
   "source": [
    "plot_pandas= Fire_Calls.plot(kind = \"bar\", color = 'red')\n",
    "plt.xlabel('Station')\n",
    "plt.ylabel('Number of Calls')\n",
    "plt.title(\"Amount of Fire Calls by Station\")\n",
    "plt.show()"
   ]
  },
  {
   "cell_type": "code",
   "execution_count": null,
   "id": "4b15f7ae",
   "metadata": {},
   "outputs": [],
   "source": [
    "plot_pandas= Public_Need_Calls.plot(kind = \"bar\", color = 'green')\n",
    "plt.xlabel('Station')\n",
    "plt.ylabel('Number of Calls')\n",
    "plt.title(\"Amount of Public Need Calls by Station\")\n",
    "plt.show()"
   ]
  },
  {
   "cell_type": "code",
   "execution_count": null,
   "id": "e82b0220",
   "metadata": {},
   "outputs": [],
   "source": [
    "plot_pandas= Other_Calls.plot(kind = \"bar\", color = 'orange')\n",
    "plt.xlabel('Station')\n",
    "plt.ylabel('Number of Calls')\n",
    "plt.title(\"Amount of Other Calls by Station\")\n",
    "plt.show()"
   ]
  },
  {
   "cell_type": "code",
   "execution_count": null,
   "id": "90ef8156",
   "metadata": {},
   "outputs": [],
   "source": [
    "Event_Type = incident_file_final_df[\"Event_Type\"].unique()"
   ]
  },
  {
   "cell_type": "code",
   "execution_count": null,
   "id": "dc98a772",
   "metadata": {},
   "outputs": [],
   "source": [
    "incident_file_final_df.head()"
   ]
  },
  {
   "cell_type": "code",
   "execution_count": null,
   "id": "3b1e5136",
   "metadata": {},
   "outputs": [],
   "source": [
    "#Analyzing incidents by Event Type\n",
    "Calls = incident_file_final_df[\"Event_Type\"].value_counts()"
   ]
  },
  {
   "cell_type": "code",
   "execution_count": null,
   "id": "d1a370b3",
   "metadata": {},
   "outputs": [],
   "source": [
    "Calls"
   ]
  },
  {
   "cell_type": "code",
   "execution_count": null,
   "id": "b9d62fe9",
   "metadata": {
    "scrolled": true
   },
   "outputs": [],
   "source": [
    "Calls.plot(kind='pie', startangle = 360, autopct ='%1.1f%%', figsize=(7, 7))\n",
    "plt.title(\"Event Types\")\n",
    "plt.show()"
   ]
  },
  {
   "cell_type": "code",
   "execution_count": null,
   "id": "89076a51",
   "metadata": {},
   "outputs": [],
   "source": [
    "Calls.plot.pie(startangle=45,autopct='%1.1f%%', figsize=(7, 7))"
   ]
  },
  {
   "cell_type": "code",
   "execution_count": null,
   "id": "b15bdb3b",
   "metadata": {},
   "outputs": [],
   "source": [
    "Medicalcheck = incident_file_final_df.loc[incident_file_final_df[\"Event_Type\"] == \"Medical\"]"
   ]
  },
  {
   "cell_type": "code",
   "execution_count": null,
   "id": "2b3fcf58",
   "metadata": {},
   "outputs": [],
   "source": [
    "Medicalcheck.head()"
   ]
  },
  {
   "cell_type": "code",
   "execution_count": null,
   "id": "3f1b474d",
   "metadata": {},
   "outputs": [],
   "source": [
    "Medical_Incidents = incident_file_final_df.loc[incident_file_final_df[\"Event_Type\"] == \"Medical\"]\n",
    "Medical_Calls = Medical_Incidents[\"Station\"].value_counts()\n",
    "\n",
    "Medical_Calls.head()"
   ]
  },
  {
   "cell_type": "code",
   "execution_count": null,
   "id": "74803200",
   "metadata": {},
   "outputs": [],
   "source": [
    "response_df = incident_file_final_df[['First_Unit_Assigned','Response Time','Station']]"
   ]
  },
  {
   "cell_type": "code",
   "execution_count": null,
   "id": "f34fafff",
   "metadata": {},
   "outputs": [],
   "source": [
    "response_df['Year'] = pd.DatetimeIndex(response_df['First_Unit_Assigned']).year"
   ]
  },
  {
   "cell_type": "code",
   "execution_count": null,
   "id": "4262b8eb",
   "metadata": {},
   "outputs": [],
   "source": [
    "response_df"
   ]
  },
  {
   "cell_type": "code",
   "execution_count": null,
   "id": "64a3a8b4",
   "metadata": {},
   "outputs": [],
   "source": [
    "avg_pivoted_df = response_df.pivot_table(index='Station', values ='Response Time',columns='Year',aggfunc='mean')"
   ]
  },
  {
   "cell_type": "code",
   "execution_count": null,
   "id": "b15295cf",
   "metadata": {},
   "outputs": [],
   "source": [
    "avg_pivoted_df"
   ]
  },
  {
   "cell_type": "code",
   "execution_count": null,
   "id": "0b550bf0",
   "metadata": {},
   "outputs": [],
   "source": [
    "plot_pandas= avg_pivoted_df.plot(kind = \"bar\", color = 'purple')\n",
    "plt.xlabel('Station')\n",
    "plt.ylabel('Average Response Time')\n",
    "plt.title(\"Average Resopnse Time by Station\")\n",
    "plt.show()"
   ]
  },
  {
   "cell_type": "code",
   "execution_count": null,
   "id": "1db95e42",
   "metadata": {},
   "outputs": [],
   "source": [
    "# avg = avg_pivoted_df.plot(kind='line', xlabel='Station', ylabel='Average Response Time (min)', grid=True,\n",
    "#                           title='Year Over Year Avg Response Time', figsize=(16,12),linewidth=4)\n",
    "# avg.legend(bbox_to_anchor=(1,1.02), loc='upper left')\n"
   ]
  },
  {
   "cell_type": "code",
   "execution_count": null,
   "id": "a2743723",
   "metadata": {},
   "outputs": [],
   "source": []
  },
  {
   "cell_type": "markdown",
   "id": "85099433",
   "metadata": {},
   "source": [
    "RESPONSE TIMES ANALYSIS (GEORGE)"
   ]
  },
  {
   "cell_type": "code",
   "execution_count": null,
   "id": "88c49aa9",
   "metadata": {},
   "outputs": [],
   "source": [
    "# New DF with only necessary columns, including Location to help look for duplicate rows\n",
    "response_df = incident_file_final_df[['First_Unit_Assigned','Response Time']]\n",
    "#response_df = incident_file_final_df[['Station','First_Unit_Assigned','Response Time','Location']]\n",
    "\n",
    "# Create Year & Month columns based on First_Unit_Assigned column\n",
    "response_df['Year'] = pd.DatetimeIndex(response_df['First_Unit_Assigned']).year\n",
    "response_df['Month'] = pd.DatetimeIndex(response_df['First_Unit_Assigned']).month\n",
    "#response_df.set_index(['Year','Month'])\n",
    "\n",
    "response_df.head()"
   ]
  },
  {
   "cell_type": "code",
   "execution_count": null,
   "id": "cf6c7ef1",
   "metadata": {},
   "outputs": [],
   "source": [
    "# Pivot the response_df for AVG RESPONSE TIME and prep for year-over-year line chart\n",
    "avg_pivoted_df = response_df.pivot_table(index='Month', values ='Response Time',columns='Year',aggfunc='mean')\n",
    "avg_pivoted_df"
   ]
  },
  {
   "cell_type": "code",
   "execution_count": null,
   "id": "04e9d28b",
   "metadata": {},
   "outputs": [],
   "source": [
    "avg = avg_pivoted_df.plot(kind='line', xlabel='Month', ylabel='Average Response Time (min)', grid=True,\n",
    "                          title='Year Over Year Avg Response Time', figsize=(10,8),linewidth=4)\n",
    "avg.legend(bbox_to_anchor=(1,1.02), loc='upper left')\n",
    "\n",
    "plt.show()"
   ]
  },
  {
   "cell_type": "code",
   "execution_count": null,
   "id": "aa91b634",
   "metadata": {},
   "outputs": [],
   "source": [
    "# Pivot the response_df for INCIDENT COUNTS and prep for year-over-year line chart\n",
    "count_pivoted_df = response_df.pivot_table(index='Month', values ='Response Time',columns='Year',aggfunc='count')\n",
    "count_pivoted_df"
   ]
  },
  {
   "cell_type": "code",
   "execution_count": null,
   "id": "5ea9efef",
   "metadata": {},
   "outputs": [],
   "source": [
    "count = count_pivoted_df.plot(kind='line', xlabel='Month', ylabel='Number of Incidents', grid=True,\n",
    "                          title='Year Over Year Number of Incidents', figsize=(10,8),linewidth=4)\n",
    "count.legend(bbox_to_anchor=(1,1.02), loc='upper left')\n",
    "\n",
    "plt.show()"
   ]
  },
  {
   "cell_type": "code",
   "execution_count": null,
   "id": "ade92d89",
   "metadata": {},
   "outputs": [],
   "source": []
  },
  {
   "cell_type": "code",
   "execution_count": null,
   "id": "2a8494cf",
   "metadata": {},
   "outputs": [],
   "source": [
    "incident_file_clean_df.head()"
   ]
  },
  {
   "cell_type": "code",
   "execution_count": null,
   "id": "43ecca24",
   "metadata": {},
   "outputs": [],
   "source": [
    "incident_file_clean_df.shape"
   ]
  },
  {
   "cell_type": "markdown",
   "id": "97b7c6ca",
   "metadata": {},
   "source": [
    "HYPOTHESIS TESTING (ANJI)"
   ]
  },
  {
   "cell_type": "code",
   "execution_count": null,
   "id": "d7891831",
   "metadata": {},
   "outputs": [],
   "source": [
    "import scipy.stats as stats"
   ]
  },
  {
   "cell_type": "code",
   "execution_count": null,
   "id": "b2a33202",
   "metadata": {},
   "outputs": [],
   "source": [
    "# Create Boxplot\n",
    "response_df.boxplot(column=\"Response Time\", by=\"Year\", showfliers=False, figsize=(20,10), fontsize=20)\n",
    "plt.ylim(0, 20)\n",
    "plt.title(\"\")\n",
    "plt.suptitle(\"LVFD Response Times per Year\", fontsize=25)\n",
    "plt.xlabel(\"Year\", fontsize=20)\n",
    "plt.ylabel(\"Response Times (minutes)\", fontsize=20)\n",
    "\n",
    "plt.show()"
   ]
  },
  {
   "cell_type": "code",
   "execution_count": null,
   "id": "aeeaa9f9",
   "metadata": {},
   "outputs": [],
   "source": [
    "# Extract individual groups\n",
    "group1 = response_df[response_df[\"Year\"] == 2011][\"Response Time\"]\n",
    "group2 = response_df[response_df[\"Year\"] == 2012][\"Response Time\"]\n",
    "group3 = response_df[response_df[\"Year\"] == 2013][\"Response Time\"]\n",
    "group4 = response_df[response_df[\"Year\"] == 2014][\"Response Time\"]\n",
    "group5 = response_df[response_df[\"Year\"] == 2015][\"Response Time\"]\n",
    "group6 = response_df[response_df[\"Year\"] == 2016][\"Response Time\"]\n",
    "group7 = response_df[response_df[\"Year\"] == 2017][\"Response Time\"]\n",
    "group8 = response_df[response_df[\"Year\"] == 2018][\"Response Time\"]"
   ]
  },
  {
   "cell_type": "code",
   "execution_count": null,
   "id": "1f305eb2",
   "metadata": {},
   "outputs": [],
   "source": [
    "# Perform the ANOVA\n",
    "statistics = stats.f_oneway(group1, group2, group3, group4, group5, group6, group7, group8)\n",
    "print(statistics)"
   ]
  },
  {
   "cell_type": "code",
   "execution_count": null,
   "id": "894f54d7",
   "metadata": {},
   "outputs": [],
   "source": [
    "# Bring-in fire station data\n",
    "station_df = pd.read_csv(fire_station_data)\n",
    "print(f\"# of rows in the Station data file: {len(station_df)}\")\n",
    "station_df.head()"
   ]
  },
  {
   "cell_type": "code",
   "execution_count": null,
   "id": "b48f96a7",
   "metadata": {},
   "outputs": [],
   "source": [
    "#clean up data \n",
    "distinct_stations = incident_file_clean_df[\"Station\"].unique()\n",
    "clv_stations_df = station_df[station_df[\"CITY_CODE\"] == \"CLV\"]\n",
    "clv_stations_df.head()"
   ]
  },
  {
   "cell_type": "code",
   "execution_count": null,
   "id": "bbcf1dca",
   "metadata": {},
   "outputs": [],
   "source": [
    "\n",
    "#Access maps with unique API key\n",
    "gmaps.configure(api_key=g_key)\n"
   ]
  },
  {
   "cell_type": "code",
   "execution_count": null,
   "id": "bd8c6a54",
   "metadata": {},
   "outputs": [],
   "source": [
    "#create a map of Firehouse locations\n",
    "station_locations = clv_stations_df[['LAT','LONG']]\n",
    "\n",
    "fig = gmaps.figure()\n",
    "markers = gmaps.marker_layer(station_locations)\n",
    "\n",
    "\n",
    "   \n",
    "fig.add_layer(markers)\n",
    "fig"
   ]
  },
  {
   "cell_type": "code",
   "execution_count": null,
   "id": "9b9072d9",
   "metadata": {},
   "outputs": [],
   "source": [
    "# create markers\n",
    "info_box_template = \"\"\"\n",
    "<dl>\n",
    "<dt>Facility Name</dt><dd>{FACILITY_NAME}</dd>\n",
    "<dt>Latitude</dt><dd>{LAT}</dd>\n",
    "<dt>Longitude</dt><dd>{LONG}</dd>\n",
    "</dl>\n",
    "\"\"\"\n",
    "# Store the DataFrame Row\n",
    "# update with your DataFrame name\n",
    "location_info = [info_box_template.format(**row) for index, row in clv_stations_df.iterrows()]\n",
    "locations = clv_stations_df[[\"LAT\", \"LONG\"]]"
   ]
  },
  {
   "cell_type": "code",
   "execution_count": null,
   "id": "54503439",
   "metadata": {},
   "outputs": [],
   "source": [
    "# Add marker layer ontop of map\n",
    "markers = gmaps.marker_layer(locations,info_box_content=location_info)\n",
    "fig.add_layer(markers)\n",
    "fig"
   ]
  },
  {
   "cell_type": "code",
   "execution_count": null,
   "id": "c2b18842",
   "metadata": {},
   "outputs": [],
   "source": []
  }
 ],
 "metadata": {
  "kernelspec": {
   "display_name": "Python 3",
   "language": "python",
   "name": "python3"
  },
  "language_info": {
   "codemirror_mode": {
    "name": "ipython",
    "version": 3
   },
   "file_extension": ".py",
   "mimetype": "text/x-python",
   "name": "python",
   "nbconvert_exporter": "python",
   "pygments_lexer": "ipython3",
   "version": "3.8.8"
  }
 },
 "nbformat": 4,
 "nbformat_minor": 5
}
