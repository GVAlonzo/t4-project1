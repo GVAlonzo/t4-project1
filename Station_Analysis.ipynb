{
 "cells": [
  {
   "cell_type": "markdown",
   "id": "48db7e1f",
   "metadata": {},
   "source": [
    "TO-DOs:\n",
    "\n",
    "INCIDENT FILE\n",
    "- Parse-out the time from the date/time columns\n",
    "- Calculate the arrival times\n",
    "\n",
    "STATION FILE\n",
    "- TBD?\n",
    "\n",
    "\n",
    "ASSIGNMENTS:\n",
    "- Google map the CLV station on a map?  (Margot)\n"
   ]
  },
  {
   "cell_type": "code",
   "execution_count": 24,
   "id": "9153d8fb",
   "metadata": {},
   "outputs": [],
   "source": [
    "# DEPENDENCIES\n",
    "import pandas as pd\n",
    "\n",
    "# Declare variables for each CSV file\n",
    "incident_file_df1114 = \"data/Fire_Department_Incident_Count - 2011-2014.csv\"\n",
    "incident_file_df1516 = \"data/Fire_Department_Incident_Count - 2015-2016.csv\"\n",
    "incident_file_df1718 = \"data/Fire_Department_Incident_Count - 2017-2018.csv\"\n",
    "fire_station_data =  \"data/Clark_County_Fire_Stations.csv\"\n",
    "\n",
    "#import gmaps\n",
    "import gmaps\n",
    "\n",
    "# Import API key\n",
    "from configure import g_key"
   ]
  },
  {
   "cell_type": "markdown",
   "id": "a49bebbb",
   "metadata": {},
   "source": [
    "PROCESS INCIDENT DATA HERE"
   ]
  },
  {
   "cell_type": "code",
   "execution_count": 25,
   "id": "8169c399",
   "metadata": {},
   "outputs": [
    {
     "name": "stdout",
     "output_type": "stream",
     "text": [
      "# of rows in 2011-2014 DF: 317543\n"
     ]
    }
   ],
   "source": [
    "# Step 1: bring-in 2011-2014 data into a df\n",
    "\n",
    "incident_file_df1114 = pd.read_csv(incident_file_df1114)\n",
    "print(f\"# of rows in 2011-2014 DF: {len(incident_file_df1114)}\")"
   ]
  },
  {
   "cell_type": "code",
   "execution_count": 26,
   "id": "d610084c",
   "metadata": {},
   "outputs": [
    {
     "name": "stdout",
     "output_type": "stream",
     "text": [
      "# of rows in 2014-2015 DF: 207549\n"
     ]
    }
   ],
   "source": [
    "# Step 2: bring-in 2015 - 2015 data into a df\n",
    "\n",
    "incident_file_df1516 = pd.read_csv(incident_file_df1516)\n",
    "print(f\"# of rows in 2014-2015 DF: {len(incident_file_df1516)}\")"
   ]
  },
  {
   "cell_type": "code",
   "execution_count": 27,
   "id": "88d84e10",
   "metadata": {},
   "outputs": [
    {
     "name": "stdout",
     "output_type": "stream",
     "text": [
      "# of rows in 2017-2018 file: 204040\n"
     ]
    },
    {
     "name": "stderr",
     "output_type": "stream",
     "text": [
      "C:\\Users\\17737\\anaconda3\\envs\\PythonData38\\lib\\site-packages\\IPython\\core\\interactiveshell.py:3165: DtypeWarning: Columns (9) have mixed types.Specify dtype option on import or set low_memory=False.\n",
      "  has_raised = await self.run_ast_nodes(code_ast.body, cell_name,\n"
     ]
    }
   ],
   "source": [
    "# Step 3: bring-in 2016-2018 data into a df\n",
    "\n",
    "incident_file_df1718 = pd.read_csv(incident_file_df1718)\n",
    "print(f\"# of rows in 2017-2018 file: {len(incident_file_df1718)}\")"
   ]
  },
  {
   "cell_type": "code",
   "execution_count": 28,
   "id": "a9d219d4",
   "metadata": {},
   "outputs": [
    {
     "name": "stdout",
     "output_type": "stream",
     "text": [
      "# of rows in complete file: 729132\n"
     ]
    }
   ],
   "source": [
    "# Concatonate previous DFs into a single dataframe\n",
    "\n",
    "incident_file_df = pd.concat([incident_file_df1114, incident_file_df1516, incident_file_df1718])\n",
    "print(f\"# of rows in complete file: {len(incident_file_df)}\")"
   ]
  },
  {
   "cell_type": "code",
   "execution_count": 29,
   "id": "24ac60c8",
   "metadata": {},
   "outputs": [
    {
     "data": {
      "text/plain": [
       "Response_Date          729132\n",
       "Event_Type             729132\n",
       "Division_Name          729132\n",
       "Station                729132\n",
       "Radio_Name             729132\n",
       "First_Unit_Assigned    729132\n",
       "First_Unit_Arrived     708375\n",
       "Assign_Time            699105\n",
       "Arrive_Time            729132\n",
       "Ward                   724431\n",
       "Location               729132\n",
       "Location_1             729132\n",
       "Jurisdiction           729132\n",
       "Fiscal_Year            729132\n",
       "Per_Capita             729132\n",
       "ObjectId               729132\n",
       "dtype: int64"
      ]
     },
     "execution_count": 29,
     "metadata": {},
     "output_type": "execute_result"
    }
   ],
   "source": [
    "incident_file_df.count()\n",
    "\n",
    "# Possibly delete rows with a missing Assign_Time??"
   ]
  },
  {
   "cell_type": "code",
   "execution_count": 30,
   "id": "b251fc9e",
   "metadata": {},
   "outputs": [],
   "source": [
    "# Drop all rows with missing information\n",
    "#incident_file_df = incident_file_df.dropna(how='any')\n",
    "\n",
    "# *** I DON'T THINK WE WANT TO DO THIS ***"
   ]
  },
  {
   "cell_type": "code",
   "execution_count": 31,
   "id": "126c2853",
   "metadata": {},
   "outputs": [
    {
     "data": {
      "text/html": [
       "<div>\n",
       "<style scoped>\n",
       "    .dataframe tbody tr th:only-of-type {\n",
       "        vertical-align: middle;\n",
       "    }\n",
       "\n",
       "    .dataframe tbody tr th {\n",
       "        vertical-align: top;\n",
       "    }\n",
       "\n",
       "    .dataframe thead th {\n",
       "        text-align: right;\n",
       "    }\n",
       "</style>\n",
       "<table border=\"1\" class=\"dataframe\">\n",
       "  <thead>\n",
       "    <tr style=\"text-align: right;\">\n",
       "      <th></th>\n",
       "      <th>Station</th>\n",
       "      <th>Response_Date</th>\n",
       "      <th>Event_Type</th>\n",
       "      <th>First_Unit_Assigned</th>\n",
       "      <th>First_Unit_Arrived</th>\n",
       "      <th>Location</th>\n",
       "      <th>Location_1</th>\n",
       "    </tr>\n",
       "  </thead>\n",
       "  <tbody>\n",
       "    <tr>\n",
       "      <th>0</th>\n",
       "      <td>Station 4</td>\n",
       "      <td>2011/07/01 00:00:00+00</td>\n",
       "      <td>Medical</td>\n",
       "      <td>2011/07/01 00:01:00+00</td>\n",
       "      <td>7/1/2011 0:06</td>\n",
       "      <td>S Maryland Pky  &amp;  E Carson Ave</td>\n",
       "      <td>(36.16462708, -115.1334076)</td>\n",
       "    </tr>\n",
       "    <tr>\n",
       "      <th>1</th>\n",
       "      <td>Station 44</td>\n",
       "      <td>2011/07/01 00:05:00+00</td>\n",
       "      <td>Medical</td>\n",
       "      <td>2011/07/01 00:06:00+00</td>\n",
       "      <td>7/1/2011 0:12</td>\n",
       "      <td>100 block of Lotus Blossom Ct</td>\n",
       "      <td>(36.17433167, -115.2525711)</td>\n",
       "    </tr>\n",
       "    <tr>\n",
       "      <th>2</th>\n",
       "      <td>Station 3</td>\n",
       "      <td>2011/07/01 00:22:00+00</td>\n",
       "      <td>Fire</td>\n",
       "      <td>2011/07/01 00:24:00+00</td>\n",
       "      <td>7/1/2011 0:27</td>\n",
       "      <td>N RANCHO DR  &amp;  W WASHINGTON AVE</td>\n",
       "      <td>(36.18107986, -115.1791687)</td>\n",
       "    </tr>\n",
       "    <tr>\n",
       "      <th>3</th>\n",
       "      <td>Station 10</td>\n",
       "      <td>2011/07/01 00:22:00+00</td>\n",
       "      <td>Medical</td>\n",
       "      <td>2011/07/01 00:23:00+00</td>\n",
       "      <td>7/1/2011 0:29</td>\n",
       "      <td>2200 block of S Las Vegas Blvd</td>\n",
       "      <td>(36.1462059, -115.1557083)</td>\n",
       "    </tr>\n",
       "    <tr>\n",
       "      <th>4</th>\n",
       "      <td>Other</td>\n",
       "      <td>2011/07/01 00:23:00+00</td>\n",
       "      <td>Public Need</td>\n",
       "      <td>2011/07/01 00:24:00+00</td>\n",
       "      <td>7/1/2011 0:31</td>\n",
       "      <td>7300 block of Breezy Night Ct</td>\n",
       "      <td>(36.2447052, -115.2542267)</td>\n",
       "    </tr>\n",
       "  </tbody>\n",
       "</table>\n",
       "</div>"
      ],
      "text/plain": [
       "      Station           Response_Date   Event_Type     First_Unit_Assigned  \\\n",
       "0   Station 4  2011/07/01 00:00:00+00      Medical  2011/07/01 00:01:00+00   \n",
       "1  Station 44  2011/07/01 00:05:00+00      Medical  2011/07/01 00:06:00+00   \n",
       "2   Station 3  2011/07/01 00:22:00+00         Fire  2011/07/01 00:24:00+00   \n",
       "3  Station 10  2011/07/01 00:22:00+00      Medical  2011/07/01 00:23:00+00   \n",
       "4       Other  2011/07/01 00:23:00+00  Public Need  2011/07/01 00:24:00+00   \n",
       "\n",
       "  First_Unit_Arrived                          Location  \\\n",
       "0      7/1/2011 0:06   S Maryland Pky  &  E Carson Ave   \n",
       "1      7/1/2011 0:12     100 block of Lotus Blossom Ct   \n",
       "2      7/1/2011 0:27  N RANCHO DR  &  W WASHINGTON AVE   \n",
       "3      7/1/2011 0:29    2200 block of S Las Vegas Blvd   \n",
       "4      7/1/2011 0:31     7300 block of Breezy Night Ct   \n",
       "\n",
       "                    Location_1  \n",
       "0  (36.16462708, -115.1334076)  \n",
       "1  (36.17433167, -115.2525711)  \n",
       "2  (36.18107986, -115.1791687)  \n",
       "3   (36.1462059, -115.1557083)  \n",
       "4   (36.2447052, -115.2542267)  "
      ]
     },
     "execution_count": 31,
     "metadata": {},
     "output_type": "execute_result"
    }
   ],
   "source": [
    "incident_file_lean_df = incident_file_df[[\"Station\",\"Response_Date\",\"Event_Type\",\"First_Unit_Assigned\",\"First_Unit_Arrived\",\"Location\",\"Location_1\"]]\n",
    "incident_file_lean_df.head()"
   ]
  },
  {
   "cell_type": "code",
   "execution_count": 32,
   "id": "32864b32",
   "metadata": {},
   "outputs": [
    {
     "data": {
      "text/plain": [
       "Station                682788\n",
       "Response_Date          682788\n",
       "Event_Type             682788\n",
       "First_Unit_Assigned    682788\n",
       "First_Unit_Arrived     662031\n",
       "Location               682788\n",
       "Location_1             682788\n",
       "dtype: int64"
      ]
     },
     "execution_count": 32,
     "metadata": {},
     "output_type": "execute_result"
    }
   ],
   "source": [
    "# Create new df for rows that DO NOT contain 'none' in the First_Unit_Arrived column\n",
    "\n",
    "incident_file_clean_df = incident_file_lean_df[incident_file_lean_df[\"First_Unit_Arrived\"] != \"None\"]\n",
    "incident_file_clean_df.count()"
   ]
  },
  {
   "cell_type": "code",
   "execution_count": 33,
   "id": "4594ceb6",
   "metadata": {},
   "outputs": [
    {
     "data": {
      "text/html": [
       "<div>\n",
       "<style scoped>\n",
       "    .dataframe tbody tr th:only-of-type {\n",
       "        vertical-align: middle;\n",
       "    }\n",
       "\n",
       "    .dataframe tbody tr th {\n",
       "        vertical-align: top;\n",
       "    }\n",
       "\n",
       "    .dataframe thead th {\n",
       "        text-align: right;\n",
       "    }\n",
       "</style>\n",
       "<table border=\"1\" class=\"dataframe\">\n",
       "  <thead>\n",
       "    <tr style=\"text-align: right;\">\n",
       "      <th></th>\n",
       "      <th>Station</th>\n",
       "      <th>Response_Date</th>\n",
       "      <th>Event_Type</th>\n",
       "      <th>First_Unit_Assigned</th>\n",
       "      <th>First_Unit_Arrived</th>\n",
       "      <th>Location</th>\n",
       "      <th>Location_1</th>\n",
       "    </tr>\n",
       "  </thead>\n",
       "  <tbody>\n",
       "    <tr>\n",
       "      <th>0</th>\n",
       "      <td>Station 4</td>\n",
       "      <td>2011/07/01 00:00:00+00</td>\n",
       "      <td>Medical</td>\n",
       "      <td>2011/07/01 00:01:00+00</td>\n",
       "      <td>7/1/2011 0:06</td>\n",
       "      <td>S Maryland Pky  &amp;  E Carson Ave</td>\n",
       "      <td>(36.16462708, -115.1334076)</td>\n",
       "    </tr>\n",
       "    <tr>\n",
       "      <th>1</th>\n",
       "      <td>Station 44</td>\n",
       "      <td>2011/07/01 00:05:00+00</td>\n",
       "      <td>Medical</td>\n",
       "      <td>2011/07/01 00:06:00+00</td>\n",
       "      <td>7/1/2011 0:12</td>\n",
       "      <td>100 block of Lotus Blossom Ct</td>\n",
       "      <td>(36.17433167, -115.2525711)</td>\n",
       "    </tr>\n",
       "    <tr>\n",
       "      <th>2</th>\n",
       "      <td>Station 3</td>\n",
       "      <td>2011/07/01 00:22:00+00</td>\n",
       "      <td>Fire</td>\n",
       "      <td>2011/07/01 00:24:00+00</td>\n",
       "      <td>7/1/2011 0:27</td>\n",
       "      <td>N RANCHO DR  &amp;  W WASHINGTON AVE</td>\n",
       "      <td>(36.18107986, -115.1791687)</td>\n",
       "    </tr>\n",
       "    <tr>\n",
       "      <th>3</th>\n",
       "      <td>Station 10</td>\n",
       "      <td>2011/07/01 00:22:00+00</td>\n",
       "      <td>Medical</td>\n",
       "      <td>2011/07/01 00:23:00+00</td>\n",
       "      <td>7/1/2011 0:29</td>\n",
       "      <td>2200 block of S Las Vegas Blvd</td>\n",
       "      <td>(36.1462059, -115.1557083)</td>\n",
       "    </tr>\n",
       "    <tr>\n",
       "      <th>4</th>\n",
       "      <td>Other</td>\n",
       "      <td>2011/07/01 00:23:00+00</td>\n",
       "      <td>Public Need</td>\n",
       "      <td>2011/07/01 00:24:00+00</td>\n",
       "      <td>7/1/2011 0:31</td>\n",
       "      <td>7300 block of Breezy Night Ct</td>\n",
       "      <td>(36.2447052, -115.2542267)</td>\n",
       "    </tr>\n",
       "  </tbody>\n",
       "</table>\n",
       "</div>"
      ],
      "text/plain": [
       "      Station           Response_Date   Event_Type     First_Unit_Assigned  \\\n",
       "0   Station 4  2011/07/01 00:00:00+00      Medical  2011/07/01 00:01:00+00   \n",
       "1  Station 44  2011/07/01 00:05:00+00      Medical  2011/07/01 00:06:00+00   \n",
       "2   Station 3  2011/07/01 00:22:00+00         Fire  2011/07/01 00:24:00+00   \n",
       "3  Station 10  2011/07/01 00:22:00+00      Medical  2011/07/01 00:23:00+00   \n",
       "4       Other  2011/07/01 00:23:00+00  Public Need  2011/07/01 00:24:00+00   \n",
       "\n",
       "  First_Unit_Arrived                          Location  \\\n",
       "0      7/1/2011 0:06   S Maryland Pky  &  E Carson Ave   \n",
       "1      7/1/2011 0:12     100 block of Lotus Blossom Ct   \n",
       "2      7/1/2011 0:27  N RANCHO DR  &  W WASHINGTON AVE   \n",
       "3      7/1/2011 0:29    2200 block of S Las Vegas Blvd   \n",
       "4      7/1/2011 0:31     7300 block of Breezy Night Ct   \n",
       "\n",
       "                    Location_1  \n",
       "0  (36.16462708, -115.1334076)  \n",
       "1  (36.17433167, -115.2525711)  \n",
       "2  (36.18107986, -115.1791687)  \n",
       "3   (36.1462059, -115.1557083)  \n",
       "4   (36.2447052, -115.2542267)  "
      ]
     },
     "execution_count": 33,
     "metadata": {},
     "output_type": "execute_result"
    }
   ],
   "source": [
    "incident_file_clean_df.head()"
   ]
  },
  {
   "cell_type": "code",
   "execution_count": 34,
   "id": "25cfe437",
   "metadata": {},
   "outputs": [
    {
     "name": "stderr",
     "output_type": "stream",
     "text": [
      "<ipython-input-34-d6c3b4e438cf>:1: SettingWithCopyWarning: \n",
      "A value is trying to be set on a copy of a slice from a DataFrame.\n",
      "Try using .loc[row_indexer,col_indexer] = value instead\n",
      "\n",
      "See the caveats in the documentation: https://pandas.pydata.org/pandas-docs/stable/user_guide/indexing.html#returning-a-view-versus-a-copy\n",
      "  incident_file_clean_df[\"Assigned Time\"] = \"TBD\"\n"
     ]
    }
   ],
   "source": [
    "incident_file_clean_df[\"Assigned Time\"] = \"TBD\""
   ]
  },
  {
   "cell_type": "code",
   "execution_count": 35,
   "id": "9926b54f",
   "metadata": {},
   "outputs": [
    {
     "data": {
      "text/html": [
       "<div>\n",
       "<style scoped>\n",
       "    .dataframe tbody tr th:only-of-type {\n",
       "        vertical-align: middle;\n",
       "    }\n",
       "\n",
       "    .dataframe tbody tr th {\n",
       "        vertical-align: top;\n",
       "    }\n",
       "\n",
       "    .dataframe thead th {\n",
       "        text-align: right;\n",
       "    }\n",
       "</style>\n",
       "<table border=\"1\" class=\"dataframe\">\n",
       "  <thead>\n",
       "    <tr style=\"text-align: right;\">\n",
       "      <th></th>\n",
       "      <th>Station</th>\n",
       "      <th>Response_Date</th>\n",
       "      <th>Event_Type</th>\n",
       "      <th>First_Unit_Assigned</th>\n",
       "      <th>First_Unit_Arrived</th>\n",
       "      <th>Location</th>\n",
       "      <th>Location_1</th>\n",
       "      <th>Assigned Time</th>\n",
       "    </tr>\n",
       "  </thead>\n",
       "  <tbody>\n",
       "    <tr>\n",
       "      <th>0</th>\n",
       "      <td>Station 4</td>\n",
       "      <td>2011/07/01 00:00:00+00</td>\n",
       "      <td>Medical</td>\n",
       "      <td>2011/07/01 00:01:00+00</td>\n",
       "      <td>7/1/2011 0:06</td>\n",
       "      <td>S Maryland Pky  &amp;  E Carson Ave</td>\n",
       "      <td>(36.16462708, -115.1334076)</td>\n",
       "      <td>TBD</td>\n",
       "    </tr>\n",
       "    <tr>\n",
       "      <th>1</th>\n",
       "      <td>Station 44</td>\n",
       "      <td>2011/07/01 00:05:00+00</td>\n",
       "      <td>Medical</td>\n",
       "      <td>2011/07/01 00:06:00+00</td>\n",
       "      <td>7/1/2011 0:12</td>\n",
       "      <td>100 block of Lotus Blossom Ct</td>\n",
       "      <td>(36.17433167, -115.2525711)</td>\n",
       "      <td>TBD</td>\n",
       "    </tr>\n",
       "    <tr>\n",
       "      <th>2</th>\n",
       "      <td>Station 3</td>\n",
       "      <td>2011/07/01 00:22:00+00</td>\n",
       "      <td>Fire</td>\n",
       "      <td>2011/07/01 00:24:00+00</td>\n",
       "      <td>7/1/2011 0:27</td>\n",
       "      <td>N RANCHO DR  &amp;  W WASHINGTON AVE</td>\n",
       "      <td>(36.18107986, -115.1791687)</td>\n",
       "      <td>TBD</td>\n",
       "    </tr>\n",
       "    <tr>\n",
       "      <th>3</th>\n",
       "      <td>Station 10</td>\n",
       "      <td>2011/07/01 00:22:00+00</td>\n",
       "      <td>Medical</td>\n",
       "      <td>2011/07/01 00:23:00+00</td>\n",
       "      <td>7/1/2011 0:29</td>\n",
       "      <td>2200 block of S Las Vegas Blvd</td>\n",
       "      <td>(36.1462059, -115.1557083)</td>\n",
       "      <td>TBD</td>\n",
       "    </tr>\n",
       "    <tr>\n",
       "      <th>4</th>\n",
       "      <td>Other</td>\n",
       "      <td>2011/07/01 00:23:00+00</td>\n",
       "      <td>Public Need</td>\n",
       "      <td>2011/07/01 00:24:00+00</td>\n",
       "      <td>7/1/2011 0:31</td>\n",
       "      <td>7300 block of Breezy Night Ct</td>\n",
       "      <td>(36.2447052, -115.2542267)</td>\n",
       "      <td>TBD</td>\n",
       "    </tr>\n",
       "  </tbody>\n",
       "</table>\n",
       "</div>"
      ],
      "text/plain": [
       "      Station           Response_Date   Event_Type     First_Unit_Assigned  \\\n",
       "0   Station 4  2011/07/01 00:00:00+00      Medical  2011/07/01 00:01:00+00   \n",
       "1  Station 44  2011/07/01 00:05:00+00      Medical  2011/07/01 00:06:00+00   \n",
       "2   Station 3  2011/07/01 00:22:00+00         Fire  2011/07/01 00:24:00+00   \n",
       "3  Station 10  2011/07/01 00:22:00+00      Medical  2011/07/01 00:23:00+00   \n",
       "4       Other  2011/07/01 00:23:00+00  Public Need  2011/07/01 00:24:00+00   \n",
       "\n",
       "  First_Unit_Arrived                          Location  \\\n",
       "0      7/1/2011 0:06   S Maryland Pky  &  E Carson Ave   \n",
       "1      7/1/2011 0:12     100 block of Lotus Blossom Ct   \n",
       "2      7/1/2011 0:27  N RANCHO DR  &  W WASHINGTON AVE   \n",
       "3      7/1/2011 0:29    2200 block of S Las Vegas Blvd   \n",
       "4      7/1/2011 0:31     7300 block of Breezy Night Ct   \n",
       "\n",
       "                    Location_1 Assigned Time  \n",
       "0  (36.16462708, -115.1334076)           TBD  \n",
       "1  (36.17433167, -115.2525711)           TBD  \n",
       "2  (36.18107986, -115.1791687)           TBD  \n",
       "3   (36.1462059, -115.1557083)           TBD  \n",
       "4   (36.2447052, -115.2542267)           TBD  "
      ]
     },
     "execution_count": 35,
     "metadata": {},
     "output_type": "execute_result"
    }
   ],
   "source": [
    "incident_file_clean_df.head()"
   ]
  },
  {
   "cell_type": "code",
   "execution_count": null,
   "id": "98a8ebb4",
   "metadata": {},
   "outputs": [],
   "source": []
  },
  {
   "cell_type": "markdown",
   "id": "6c939907",
   "metadata": {},
   "source": [
    "PROCESS FIRE STATION DATA"
   ]
  },
  {
   "cell_type": "code",
   "execution_count": 74,
   "id": "e4ca358d",
   "metadata": {},
   "outputs": [
    {
     "name": "stdout",
     "output_type": "stream",
     "text": [
      "# of rows in the Station data file: 89\n"
     ]
    }
   ],
   "source": [
    "# Bring-in fire station data\n",
    "station_df = pd.read_csv(fire_station_data)\n",
    "print(f\"# of rows in the Station data file: {len(station_df)}\")\n",
    "#station_df.head()"
   ]
  },
  {
   "cell_type": "code",
   "execution_count": 85,
   "id": "bebb1a27",
   "metadata": {
    "scrolled": true
   },
   "outputs": [
    {
     "data": {
      "text/html": [
       "<div>\n",
       "<style scoped>\n",
       "    .dataframe tbody tr th:only-of-type {\n",
       "        vertical-align: middle;\n",
       "    }\n",
       "\n",
       "    .dataframe tbody tr th {\n",
       "        vertical-align: top;\n",
       "    }\n",
       "\n",
       "    .dataframe thead th {\n",
       "        text-align: right;\n",
       "    }\n",
       "</style>\n",
       "<table border=\"1\" class=\"dataframe\">\n",
       "  <thead>\n",
       "    <tr style=\"text-align: right;\">\n",
       "      <th></th>\n",
       "      <th>FACILITY_NAME</th>\n",
       "      <th>FACILITY_ADDRESS</th>\n",
       "      <th>CITY_CODE</th>\n",
       "      <th>STATION_NUMBER</th>\n",
       "      <th>ENGINE</th>\n",
       "      <th>RESCUE</th>\n",
       "      <th>TRUCK</th>\n",
       "      <th>BATTALION</th>\n",
       "      <th>CAPABILITI</th>\n",
       "      <th>OTHER_UNIT</th>\n",
       "      <th>CONSTRUCTION_YEAR</th>\n",
       "      <th>LONG</th>\n",
       "      <th>LAT</th>\n",
       "      <th>ObjectId</th>\n",
       "    </tr>\n",
       "  </thead>\n",
       "  <tbody>\n",
       "    <tr>\n",
       "      <th>0</th>\n",
       "      <td>STATION 1 - CLV</td>\n",
       "      <td>500 N CASINO CENTER BLVD</td>\n",
       "      <td>CLV</td>\n",
       "      <td>1</td>\n",
       "      <td>1,201,301</td>\n",
       "      <td>1201301.0</td>\n",
       "      <td>1.0</td>\n",
       "      <td>1</td>\n",
       "      <td>ALS &amp;ILS</td>\n",
       "      <td>BAT1, Eng401&amp;501,Res401,501,601,100,Sqaud1,ILS...</td>\n",
       "      <td>6/23/1984</td>\n",
       "      <td>-115.140593</td>\n",
       "      <td>36.175147</td>\n",
       "      <td>1</td>\n",
       "    </tr>\n",
       "    <tr>\n",
       "      <th>2</th>\n",
       "      <td>STATION 2 - CLV</td>\n",
       "      <td>900 S DURANGO DR</td>\n",
       "      <td>CLV</td>\n",
       "      <td>2</td>\n",
       "      <td>2</td>\n",
       "      <td>2.0</td>\n",
       "      <td>NaN</td>\n",
       "      <td>10</td>\n",
       "      <td>ALS</td>\n",
       "      <td>BAT10</td>\n",
       "      <td>12/1989</td>\n",
       "      <td>-115.278456</td>\n",
       "      <td>36.161596</td>\n",
       "      <td>3</td>\n",
       "    </tr>\n",
       "    <tr>\n",
       "      <th>3</th>\n",
       "      <td>STATION 3 - CLV</td>\n",
       "      <td>2645 W WASHINGTON AV</td>\n",
       "      <td>CLV</td>\n",
       "      <td>3</td>\n",
       "      <td>3,203</td>\n",
       "      <td>3.0</td>\n",
       "      <td>3.0</td>\n",
       "      <td>1</td>\n",
       "      <td>ALS</td>\n",
       "      <td>CBRN3</td>\n",
       "      <td>12/18/1980</td>\n",
       "      <td>-115.177234</td>\n",
       "      <td>36.180656</td>\n",
       "      <td>4</td>\n",
       "    </tr>\n",
       "    <tr>\n",
       "      <th>4</th>\n",
       "      <td>STATION 4 - CLV</td>\n",
       "      <td>421 S 15TH ST</td>\n",
       "      <td>CLV</td>\n",
       "      <td>4</td>\n",
       "      <td>4,204</td>\n",
       "      <td>4204.0</td>\n",
       "      <td>4.0</td>\n",
       "      <td>1</td>\n",
       "      <td>ALS &amp; ILS</td>\n",
       "      <td>ILS4</td>\n",
       "      <td>12/1989</td>\n",
       "      <td>-115.131524</td>\n",
       "      <td>36.159943</td>\n",
       "      <td>5</td>\n",
       "    </tr>\n",
       "    <tr>\n",
       "      <th>5</th>\n",
       "      <td>STATION 5 - CLV</td>\n",
       "      <td>1020 HINSON ST</td>\n",
       "      <td>CLV</td>\n",
       "      <td>5</td>\n",
       "      <td>5,205,555</td>\n",
       "      <td>5.0</td>\n",
       "      <td>NaN</td>\n",
       "      <td>10</td>\n",
       "      <td>ALS</td>\n",
       "      <td>EMS1,ILS5</td>\n",
       "      <td>9/11/2004</td>\n",
       "      <td>-115.195485</td>\n",
       "      <td>36.160133</td>\n",
       "      <td>6</td>\n",
       "    </tr>\n",
       "  </tbody>\n",
       "</table>\n",
       "</div>"
      ],
      "text/plain": [
       "     FACILITY_NAME          FACILITY_ADDRESS CITY_CODE  STATION_NUMBER  \\\n",
       "0  STATION 1 - CLV  500 N CASINO CENTER BLVD       CLV               1   \n",
       "2  STATION 2 - CLV          900 S DURANGO DR       CLV               2   \n",
       "3  STATION 3 - CLV      2645 W WASHINGTON AV       CLV               3   \n",
       "4  STATION 4 - CLV             421 S 15TH ST       CLV               4   \n",
       "5  STATION 5 - CLV            1020 HINSON ST       CLV               5   \n",
       "\n",
       "      ENGINE     RESCUE  TRUCK  BATTALION CAPABILITI  \\\n",
       "0  1,201,301  1201301.0    1.0          1   ALS &ILS   \n",
       "2          2        2.0    NaN         10        ALS   \n",
       "3      3,203        3.0    3.0          1        ALS   \n",
       "4      4,204     4204.0    4.0          1  ALS & ILS   \n",
       "5  5,205,555        5.0    NaN         10        ALS   \n",
       "\n",
       "                                          OTHER_UNIT CONSTRUCTION_YEAR  \\\n",
       "0  BAT1, Eng401&501,Res401,501,601,100,Sqaud1,ILS...         6/23/1984   \n",
       "2                                              BAT10           12/1989   \n",
       "3                                              CBRN3        12/18/1980   \n",
       "4                                               ILS4           12/1989   \n",
       "5                                          EMS1,ILS5         9/11/2004   \n",
       "\n",
       "         LONG        LAT  ObjectId  \n",
       "0 -115.140593  36.175147         1  \n",
       "2 -115.278456  36.161596         3  \n",
       "3 -115.177234  36.180656         4  \n",
       "4 -115.131524  36.159943         5  \n",
       "5 -115.195485  36.160133         6  "
      ]
     },
     "execution_count": 85,
     "metadata": {},
     "output_type": "execute_result"
    }
   ],
   "source": [
    "distinct_stations = incident_file_clean_df[\"Station\"].unique()\n",
    "clv_stations_df = station_df[station_df[\"CITY_CODE\"] == \"CLV\"]\n",
    "clv_stations_df.head()\n"
   ]
  },
  {
   "cell_type": "code",
   "execution_count": 103,
   "id": "3dfcdd75",
   "metadata": {},
   "outputs": [],
   "source": [
    "#Access maps with unique API key\n",
    "gmaps.configure(api_key=g_key)"
   ]
  },
  {
   "cell_type": "code",
   "execution_count": 110,
   "id": "d40ff09b",
   "metadata": {},
   "outputs": [
    {
     "data": {
      "application/vnd.jupyter.widget-view+json": {
       "model_id": "f0232ffe81844b7e966bf30a8b9f0a69",
       "version_major": 2,
       "version_minor": 0
      },
      "text/plain": [
       "Figure(layout=FigureLayout(height='420px'))"
      ]
     },
     "metadata": {},
     "output_type": "display_data"
    }
   ],
   "source": [
    "#create a map of Firehouse locations\n",
    "station_locations = clv_stations_df[['LAT','LONG']]\n",
    "\n",
    "fig = gmaps.figure()\n",
    "markers = gmaps.marker_layer(station_locations)\n",
    "\n",
    "\n",
    "\n",
    "# # Using the template add the hotel marks to the heatmap\n",
    "# info_box_template = \"\"\"\n",
    "# <dl>\n",
    "# <dt>Name</dt><dd>{Hotel Name}</dd>\n",
    "# <dt>City</dt><dd>{City}</dd>\n",
    "# <dt>Country</dt><dd>{Country}</dd>\n",
    "# </dl>\n",
    "# \"\"\"\n",
    "# # Store the DataFrame Row\n",
    "# # NOTE: be sure to update with your DataFrame name\n",
    "# hotel_info = [info_box_template.format(**row) for index, row in hotel_df.iterrows()]\n",
    "   \n",
    "fig.add_layer(markers)\n",
    "fig\n"
   ]
  },
  {
   "cell_type": "code",
   "execution_count": 105,
   "id": "d4a2b66f",
   "metadata": {},
   "outputs": [],
   "source": [
    "locations = [(36.243,-115.6789), (35.4111,-115.5444), (34.211, -115.822)]\n",
    "\n",
    "# Your previous Locations_1 was in exactly this format"
   ]
  },
  {
   "cell_type": "code",
   "execution_count": 106,
   "id": "c58d3a2f",
   "metadata": {},
   "outputs": [],
   "source": [
    "locations = [[36.243,-115.678], [35.4111,-115.5444], [34.211, -115.822]]"
   ]
  },
  {
   "cell_type": "code",
   "execution_count": null,
   "id": "26091772",
   "metadata": {},
   "outputs": [],
   "source": [
    "f\"{lat},{lng}\""
   ]
  }
 ],
 "metadata": {
  "kernelspec": {
   "display_name": "Python 3",
   "language": "python",
   "name": "python3"
  },
  "language_info": {
   "codemirror_mode": {
    "name": "ipython",
    "version": 3
   },
   "file_extension": ".py",
   "mimetype": "text/x-python",
   "name": "python",
   "nbconvert_exporter": "python",
   "pygments_lexer": "ipython3",
   "version": "3.8.8"
  }
 },
 "nbformat": 4,
 "nbformat_minor": 5
}
