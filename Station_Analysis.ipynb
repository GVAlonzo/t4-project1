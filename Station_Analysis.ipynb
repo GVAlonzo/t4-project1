{
 "cells": [
  {
   "cell_type": "markdown",
   "id": "48db7e1f",
   "metadata": {},
   "source": [
    "TO-DOs:\n",
    "\n",
    "INCIDENT FILE\n",
    "- Parse-out the time from the date/time columns\n",
    "- Calculate the arrival times\n",
    "\n",
    "STATION FILE\n",
    "- TBD?\n",
    "\n",
    "\n",
    "ASSIGNMENTS:\n",
    "- Google map the CLV station on a map?  (Margot)\n"
   ]
  },
  {
   "cell_type": "code",
   "execution_count": null,
   "id": "9153d8fb",
   "metadata": {},
   "outputs": [],
   "source": [
    "# DEPENDENCIES\n",
    "import pandas as pd\n",
    "\n",
    "# Declare variables for each CSV file\n",
    "incident_file_df1114 = \"data/Fire_Department_Incident_Count - 2011-2014.csv\"\n",
    "incident_file_df1516 = \"data/Fire_Department_Incident_Count - 2015-2016.csv\"\n",
    "incident_file_df1718 = \"data/Fire_Department_Incident_Count - 2017-2018.csv\"\n",
    "fire_station_data =  \"data/Clark_County_Fire_Stations.csv\"\n",
    "\n",
    "#import gmaps\n",
    "import gmaps\n",
    "\n",
    "# Import API key\n",
    "from configure import g_key"
   ]
  },
  {
   "cell_type": "markdown",
   "id": "a49bebbb",
   "metadata": {},
   "source": [
    "PROCESS INCIDENT DATA HERE"
   ]
  },
  {
   "cell_type": "code",
   "execution_count": null,
   "id": "8169c399",
   "metadata": {},
   "outputs": [],
   "source": [
    "# Step 1: bring-in 2011-2014 data into a df\n",
    "\n",
    "incident_file_df1114 = pd.read_csv(incident_file_df1114)\n",
    "print(f\"# of rows in 2011-2014 DF: {len(incident_file_df1114)}\")"
   ]
  },
  {
   "cell_type": "code",
   "execution_count": null,
   "id": "d610084c",
   "metadata": {},
   "outputs": [],
   "source": [
    "# Step 2: bring-in 2015 - 2015 data into a df\n",
    "\n",
    "incident_file_df1516 = pd.read_csv(incident_file_df1516)\n",
    "print(f\"# of rows in 2014-2015 DF: {len(incident_file_df1516)}\")"
   ]
  },
  {
   "cell_type": "code",
   "execution_count": null,
   "id": "88d84e10",
   "metadata": {},
   "outputs": [],
   "source": [
    "# Step 3: bring-in 2016-2018 data into a df\n",
    "\n",
    "incident_file_df1718 = pd.read_csv(incident_file_df1718)\n",
    "print(f\"# of rows in 2017-2018 file: {len(incident_file_df1718)}\")"
   ]
  },
  {
   "cell_type": "code",
   "execution_count": null,
   "id": "a9d219d4",
   "metadata": {},
   "outputs": [],
   "source": [
    "# Concatonate previous DFs into a single dataframe\n",
    "\n",
    "incident_file_df = pd.concat([incident_file_df1114, incident_file_df1516, incident_file_df1718])\n",
    "print(f\"# of rows in complete file: {len(incident_file_df)}\")"
   ]
  },
  {
   "cell_type": "code",
   "execution_count": null,
   "id": "24ac60c8",
   "metadata": {},
   "outputs": [],
   "source": [
    "incident_file_df.count()\n",
    "\n",
    "# Possibly delete rows with a missing Assign_Time??"
   ]
  },
  {
   "cell_type": "code",
   "execution_count": null,
   "id": "b251fc9e",
   "metadata": {},
   "outputs": [],
   "source": [
    "# Drop all rows with missing information\n",
    "#incident_file_df = incident_file_df.dropna(how='any')\n",
    "\n",
    "# *** I DON'T THINK WE WANT TO DO THIS ***"
   ]
  },
  {
   "cell_type": "code",
   "execution_count": null,
   "id": "126c2853",
   "metadata": {},
   "outputs": [],
   "source": [
    "incident_file_lean_df = incident_file_df[[\"Station\",\"Response_Date\",\"Event_Type\",\"First_Unit_Assigned\",\"First_Unit_Arrived\",\"Location\",\"Location_1\"]]\n",
    "incident_file_lean_df.head()"
   ]
  },
  {
   "cell_type": "code",
   "execution_count": null,
   "id": "32864b32",
   "metadata": {},
   "outputs": [],
   "source": [
    "# Create new df for rows that DO NOT contain 'none' in the First_Unit_Arrived column\n",
    "\n",
    "incident_file_clean_df = incident_file_lean_df[incident_file_lean_df[\"First_Unit_Arrived\"] != \"None\"]\n",
    "incident_file_clean_df.count()"
   ]
  },
  {
   "cell_type": "code",
   "execution_count": null,
   "id": "4594ceb6",
   "metadata": {},
   "outputs": [],
   "source": [
    "incident_file_clean_df.head()"
   ]
  },
  {
   "cell_type": "code",
   "execution_count": null,
   "id": "25cfe437",
   "metadata": {},
   "outputs": [],
   "source": [
    "incident_file_clean_df[\"Assigned Time\"] = \"TBD\""
   ]
  },
  {
   "cell_type": "code",
   "execution_count": null,
   "id": "9926b54f",
   "metadata": {},
   "outputs": [],
   "source": [
    "incident_file_clean_df.head()"
   ]
  },
  {
   "cell_type": "code",
   "execution_count": null,
   "id": "98a8ebb4",
   "metadata": {},
   "outputs": [],
   "source": []
  },
  {
   "cell_type": "markdown",
   "id": "6c939907",
   "metadata": {},
   "source": [
    "PROCESS FIRE STATION DATA"
   ]
  },
  {
   "cell_type": "code",
   "execution_count": null,
   "id": "e4ca358d",
   "metadata": {},
   "outputs": [],
   "source": [
    "# Bring-in fire station data\n",
    "station_df = pd.read_csv(fire_station_data)\n",
    "print(f\"# of rows in the Station data file: {len(station_df)}\")\n",
    "#station_df.head()"
   ]
  },
  {
   "cell_type": "code",
   "execution_count": null,
   "id": "bebb1a27",
   "metadata": {
    "scrolled": true
   },
   "outputs": [],
   "source": [
    "distinct_stations = incident_file_clean_df[\"Station\"].unique()\n",
    "clv_stations_df = station_df[station_df[\"CITY_CODE\"] == \"CLV\"]\n",
    "clv_stations_df.head()\n"
   ]
  },
  {
   "cell_type": "code",
   "execution_count": null,
   "id": "3dfcdd75",
   "metadata": {},
   "outputs": [],
   "source": [
    "#Access maps with unique API key\n",
    "gmaps.configure(api_key=g_key)"
   ]
  },
  {
   "cell_type": "code",
   "execution_count": null,
   "id": "d40ff09b",
   "metadata": {},
   "outputs": [],
   "source": [
    "#create a map of Firehouse locations\n",
    "station_locations = clv_stations_df[['LAT','LONG']]\n",
    "\n",
    "fig = gmaps.figure()\n",
    "markers = gmaps.marker_layer(station_locations)\n",
    "\n",
    "\n",
    "\n",
    "# # Using the template add the hotel marks to the heatmap\n",
    "# info_box_template = \"\"\"\n",
    "# <dl>\n",
    "# <dt>Name</dt><dd>{Hotel Name}</dd>\n",
    "# <dt>City</dt><dd>{City}</dd>\n",
    "# <dt>Country</dt><dd>{Country}</dd>\n",
    "# </dl>\n",
    "# \"\"\"\n",
    "# # Store the DataFrame Row\n",
    "# # NOTE: be sure to update with your DataFrame name\n",
    "# hotel_info = [info_box_template.format(**row) for index, row in hotel_df.iterrows()]\n",
    "   \n",
    "fig.add_layer(markers)\n",
    "fig\n"
   ]
  }
 ],
 "metadata": {
  "kernelspec": {
   "display_name": "Python 3",
   "language": "python",
   "name": "python3"
  },
  "language_info": {
   "codemirror_mode": {
    "name": "ipython",
    "version": 3
   },
   "file_extension": ".py",
   "mimetype": "text/x-python",
   "name": "python",
   "nbconvert_exporter": "python",
   "pygments_lexer": "ipython3",
   "version": "3.8.8"
  }
 },
 "nbformat": 4,
 "nbformat_minor": 5
}
