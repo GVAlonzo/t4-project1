{
 "cells": [
  {
   "cell_type": "markdown",
   "id": "48db7e1f",
   "metadata": {},
   "source": [
    "TO-DOs:\n",
    "\n",
    "INCIDENT FILE\n",
    "- Parse-out the time from the date/time columns\n",
    "- Calculate the arrival times\n",
    "\n",
    "STATION FILE\n",
    "- TBD?\n",
    "\n",
    "\n",
    "ASSIGNMENTS:\n",
    "- Google map the CLV station on a map?  (Margot)\n"
   ]
  },
  {
   "cell_type": "code",
   "execution_count": 73,
   "id": "9153d8fb",
   "metadata": {},
   "outputs": [],
   "source": [
    "# DEPENDENCIES\n",
    "import pandas as pd\n",
    "\n",
    "# Declare variables for each CSV file\n",
    "incident_file_df1114 = \"data/Fire_Department_Incident_Count - 2011-2014.csv\"\n",
    "incident_file_df1516 = \"data/Fire_Department_Incident_Count - 2015-2016.csv\"\n",
    "incident_file_df1718 = \"data/Fire_Department_Incident_Count - 2017-2018.csv\"\n",
    "fire_station_data =  \"data/Clark_County_Fire_Stations.csv\""
   ]
  },
  {
   "cell_type": "markdown",
   "id": "a49bebbb",
   "metadata": {},
   "source": [
    "PROCESS INCIDENT DATA HERE"
   ]
  },
  {
   "cell_type": "code",
   "execution_count": null,
   "id": "8169c399",
   "metadata": {},
   "outputs": [],
   "source": [
    "# Step 1: bring-in 2011-2014 data into a df\n",
    "\n",
    "incident_file_df1114 = pd.read_csv(incident_file1)\n",
    "print(f\"# of rows in 2011-2014 DF: {len(incident_file_df1114)}\")"
   ]
  },
  {
   "cell_type": "code",
   "execution_count": 17,
   "id": "d610084c",
   "metadata": {},
   "outputs": [
    {
     "name": "stdout",
     "output_type": "stream",
     "text": [
      "# of rows in 2014-2015 DF: 207549\n"
     ]
    }
   ],
   "source": [
    "# Step 2: bring-in 2015 - 2015 data into a df\n",
    "\n",
    "incident_file_df1516 = pd.read_csv(incident_file2)\n",
    "print(f\"# of rows in 2014-2015 DF: {len(incident_file_df1516)}\")"
   ]
  },
  {
   "cell_type": "code",
   "execution_count": 18,
   "id": "88d84e10",
   "metadata": {},
   "outputs": [
    {
     "name": "stdout",
     "output_type": "stream",
     "text": [
      "# of rows in 2017-2018 file: 204040\n"
     ]
    }
   ],
   "source": [
    "# Step 3: bring-in 2016-2018 data into a df\n",
    "\n",
    "incident_file_df1718 = pd.read_csv(incident_file3)\n",
    "print(f\"# of rows in 2017-2018 file: {len(incident_file_df1718)}\")"
   ]
  },
  {
   "cell_type": "code",
   "execution_count": 33,
   "id": "a9d219d4",
   "metadata": {},
   "outputs": [
    {
     "name": "stdout",
     "output_type": "stream",
     "text": [
      "# of rows in complete file: 729132\n"
     ]
    }
   ],
   "source": [
    "# Concatonate previous DFs into a single dataframe\n",
    "\n",
    "incident_file_df = pd.concat([incident_file_df1114, incident_file_df1516, incident_file_df1718])\n",
    "print(f\"# of rows in complete file: {len(incident_file_df)}\")"
   ]
  },
  {
   "cell_type": "code",
   "execution_count": 85,
   "id": "24ac60c8",
   "metadata": {},
   "outputs": [
    {
     "data": {
      "text/plain": [
       "Response_Date          729132\n",
       "Event_Type             729132\n",
       "Division_Name          729132\n",
       "Station                729132\n",
       "Radio_Name             729132\n",
       "First_Unit_Assigned    729132\n",
       "First_Unit_Arrived     708375\n",
       "Assign_Time            699105\n",
       "Arrive_Time            729132\n",
       "Ward                   724431\n",
       "Location               729132\n",
       "Location_1             729132\n",
       "Jurisdiction           729132\n",
       "Fiscal_Year            729132\n",
       "Per_Capita             729132\n",
       "ObjectId               729132\n",
       "dtype: int64"
      ]
     },
     "execution_count": 85,
     "metadata": {},
     "output_type": "execute_result"
    }
   ],
   "source": [
    "incident_file_df.count()\n",
    "\n",
    "# Possibly delete rows with a missing Assign_Time??"
   ]
  },
  {
   "cell_type": "code",
   "execution_count": 30,
   "id": "b251fc9e",
   "metadata": {},
   "outputs": [],
   "source": [
    "# Drop all rows with missing information\n",
    "#incident_file_df = incident_file_df.dropna(how='any')\n",
    "\n",
    "# *** I DON'T THINK WE WANT TO DO THIS ***"
   ]
  },
  {
   "cell_type": "code",
   "execution_count": 39,
   "id": "126c2853",
   "metadata": {},
   "outputs": [
    {
     "data": {
      "text/html": [
       "<div>\n",
       "<style scoped>\n",
       "    .dataframe tbody tr th:only-of-type {\n",
       "        vertical-align: middle;\n",
       "    }\n",
       "\n",
       "    .dataframe tbody tr th {\n",
       "        vertical-align: top;\n",
       "    }\n",
       "\n",
       "    .dataframe thead th {\n",
       "        text-align: right;\n",
       "    }\n",
       "</style>\n",
       "<table border=\"1\" class=\"dataframe\">\n",
       "  <thead>\n",
       "    <tr style=\"text-align: right;\">\n",
       "      <th></th>\n",
       "      <th>Station</th>\n",
       "      <th>Response_Date</th>\n",
       "      <th>Event_Type</th>\n",
       "      <th>First_Unit_Assigned</th>\n",
       "      <th>First_Unit_Arrived</th>\n",
       "      <th>Location</th>\n",
       "      <th>Location_1</th>\n",
       "    </tr>\n",
       "  </thead>\n",
       "  <tbody>\n",
       "    <tr>\n",
       "      <th>0</th>\n",
       "      <td>Station 4</td>\n",
       "      <td>2011/07/01 00:00:00+00</td>\n",
       "      <td>Medical</td>\n",
       "      <td>2011/07/01 00:01:00+00</td>\n",
       "      <td>7/1/2011 0:06</td>\n",
       "      <td>S Maryland Pky  &amp;  E Carson Ave</td>\n",
       "      <td>(36.16462708, -115.1334076)</td>\n",
       "    </tr>\n",
       "    <tr>\n",
       "      <th>1</th>\n",
       "      <td>Station 44</td>\n",
       "      <td>2011/07/01 00:05:00+00</td>\n",
       "      <td>Medical</td>\n",
       "      <td>2011/07/01 00:06:00+00</td>\n",
       "      <td>7/1/2011 0:12</td>\n",
       "      <td>100 block of Lotus Blossom Ct</td>\n",
       "      <td>(36.17433167, -115.2525711)</td>\n",
       "    </tr>\n",
       "    <tr>\n",
       "      <th>2</th>\n",
       "      <td>Station 3</td>\n",
       "      <td>2011/07/01 00:22:00+00</td>\n",
       "      <td>Fire</td>\n",
       "      <td>2011/07/01 00:24:00+00</td>\n",
       "      <td>7/1/2011 0:27</td>\n",
       "      <td>N RANCHO DR  &amp;  W WASHINGTON AVE</td>\n",
       "      <td>(36.18107986, -115.1791687)</td>\n",
       "    </tr>\n",
       "    <tr>\n",
       "      <th>3</th>\n",
       "      <td>Station 10</td>\n",
       "      <td>2011/07/01 00:22:00+00</td>\n",
       "      <td>Medical</td>\n",
       "      <td>2011/07/01 00:23:00+00</td>\n",
       "      <td>7/1/2011 0:29</td>\n",
       "      <td>2200 block of S Las Vegas Blvd</td>\n",
       "      <td>(36.1462059, -115.1557083)</td>\n",
       "    </tr>\n",
       "    <tr>\n",
       "      <th>4</th>\n",
       "      <td>Other</td>\n",
       "      <td>2011/07/01 00:23:00+00</td>\n",
       "      <td>Public Need</td>\n",
       "      <td>2011/07/01 00:24:00+00</td>\n",
       "      <td>7/1/2011 0:31</td>\n",
       "      <td>7300 block of Breezy Night Ct</td>\n",
       "      <td>(36.2447052, -115.2542267)</td>\n",
       "    </tr>\n",
       "  </tbody>\n",
       "</table>\n",
       "</div>"
      ],
      "text/plain": [
       "      Station           Response_Date   Event_Type     First_Unit_Assigned  \\\n",
       "0   Station 4  2011/07/01 00:00:00+00      Medical  2011/07/01 00:01:00+00   \n",
       "1  Station 44  2011/07/01 00:05:00+00      Medical  2011/07/01 00:06:00+00   \n",
       "2   Station 3  2011/07/01 00:22:00+00         Fire  2011/07/01 00:24:00+00   \n",
       "3  Station 10  2011/07/01 00:22:00+00      Medical  2011/07/01 00:23:00+00   \n",
       "4       Other  2011/07/01 00:23:00+00  Public Need  2011/07/01 00:24:00+00   \n",
       "\n",
       "  First_Unit_Arrived                          Location  \\\n",
       "0      7/1/2011 0:06   S Maryland Pky  &  E Carson Ave   \n",
       "1      7/1/2011 0:12     100 block of Lotus Blossom Ct   \n",
       "2      7/1/2011 0:27  N RANCHO DR  &  W WASHINGTON AVE   \n",
       "3      7/1/2011 0:29    2200 block of S Las Vegas Blvd   \n",
       "4      7/1/2011 0:31     7300 block of Breezy Night Ct   \n",
       "\n",
       "                    Location_1  \n",
       "0  (36.16462708, -115.1334076)  \n",
       "1  (36.17433167, -115.2525711)  \n",
       "2  (36.18107986, -115.1791687)  \n",
       "3   (36.1462059, -115.1557083)  \n",
       "4   (36.2447052, -115.2542267)  "
      ]
     },
     "execution_count": 39,
     "metadata": {},
     "output_type": "execute_result"
    }
   ],
   "source": [
    "incident_file_lean_df = incident_file_df[[\"Station\",\"Response_Date\",\"Event_Type\",\"First_Unit_Assigned\",\"First_Unit_Arrived\",\"Location\",\"Location_1\"]]\n",
    "incident_file_lean_df.head()"
   ]
  },
  {
   "cell_type": "code",
   "execution_count": 67,
   "id": "32864b32",
   "metadata": {},
   "outputs": [
    {
     "data": {
      "text/plain": [
       "Station                682788\n",
       "Response_Date          682788\n",
       "Event_Type             682788\n",
       "First_Unit_Assigned    682788\n",
       "First_Unit_Arrived     662031\n",
       "Location               682788\n",
       "Location_1             682788\n",
       "dtype: int64"
      ]
     },
     "execution_count": 67,
     "metadata": {},
     "output_type": "execute_result"
    }
   ],
   "source": [
    "# Create new df for rows that DO NOT contain 'none' in the First_Unit_Arrived column\n",
    "\n",
    "incident_file_clean_df = incident_file_lean_df[incident_file_lean_df[\"First_Unit_Arrived\"] != \"None\"]\n",
    "incident_file_clean_df.count()"
   ]
  },
  {
   "cell_type": "code",
   "execution_count": 68,
   "id": "4594ceb6",
   "metadata": {},
   "outputs": [
    {
     "data": {
      "text/html": [
       "<div>\n",
       "<style scoped>\n",
       "    .dataframe tbody tr th:only-of-type {\n",
       "        vertical-align: middle;\n",
       "    }\n",
       "\n",
       "    .dataframe tbody tr th {\n",
       "        vertical-align: top;\n",
       "    }\n",
       "\n",
       "    .dataframe thead th {\n",
       "        text-align: right;\n",
       "    }\n",
       "</style>\n",
       "<table border=\"1\" class=\"dataframe\">\n",
       "  <thead>\n",
       "    <tr style=\"text-align: right;\">\n",
       "      <th></th>\n",
       "      <th>Station</th>\n",
       "      <th>Response_Date</th>\n",
       "      <th>Event_Type</th>\n",
       "      <th>First_Unit_Assigned</th>\n",
       "      <th>First_Unit_Arrived</th>\n",
       "      <th>Location</th>\n",
       "      <th>Location_1</th>\n",
       "    </tr>\n",
       "  </thead>\n",
       "  <tbody>\n",
       "    <tr>\n",
       "      <th>0</th>\n",
       "      <td>Station 4</td>\n",
       "      <td>2011/07/01 00:00:00+00</td>\n",
       "      <td>Medical</td>\n",
       "      <td>2011/07/01 00:01:00+00</td>\n",
       "      <td>7/1/2011 0:06</td>\n",
       "      <td>S Maryland Pky  &amp;  E Carson Ave</td>\n",
       "      <td>(36.16462708, -115.1334076)</td>\n",
       "    </tr>\n",
       "    <tr>\n",
       "      <th>1</th>\n",
       "      <td>Station 44</td>\n",
       "      <td>2011/07/01 00:05:00+00</td>\n",
       "      <td>Medical</td>\n",
       "      <td>2011/07/01 00:06:00+00</td>\n",
       "      <td>7/1/2011 0:12</td>\n",
       "      <td>100 block of Lotus Blossom Ct</td>\n",
       "      <td>(36.17433167, -115.2525711)</td>\n",
       "    </tr>\n",
       "    <tr>\n",
       "      <th>2</th>\n",
       "      <td>Station 3</td>\n",
       "      <td>2011/07/01 00:22:00+00</td>\n",
       "      <td>Fire</td>\n",
       "      <td>2011/07/01 00:24:00+00</td>\n",
       "      <td>7/1/2011 0:27</td>\n",
       "      <td>N RANCHO DR  &amp;  W WASHINGTON AVE</td>\n",
       "      <td>(36.18107986, -115.1791687)</td>\n",
       "    </tr>\n",
       "    <tr>\n",
       "      <th>3</th>\n",
       "      <td>Station 10</td>\n",
       "      <td>2011/07/01 00:22:00+00</td>\n",
       "      <td>Medical</td>\n",
       "      <td>2011/07/01 00:23:00+00</td>\n",
       "      <td>7/1/2011 0:29</td>\n",
       "      <td>2200 block of S Las Vegas Blvd</td>\n",
       "      <td>(36.1462059, -115.1557083)</td>\n",
       "    </tr>\n",
       "    <tr>\n",
       "      <th>4</th>\n",
       "      <td>Other</td>\n",
       "      <td>2011/07/01 00:23:00+00</td>\n",
       "      <td>Public Need</td>\n",
       "      <td>2011/07/01 00:24:00+00</td>\n",
       "      <td>7/1/2011 0:31</td>\n",
       "      <td>7300 block of Breezy Night Ct</td>\n",
       "      <td>(36.2447052, -115.2542267)</td>\n",
       "    </tr>\n",
       "  </tbody>\n",
       "</table>\n",
       "</div>"
      ],
      "text/plain": [
       "      Station           Response_Date   Event_Type     First_Unit_Assigned  \\\n",
       "0   Station 4  2011/07/01 00:00:00+00      Medical  2011/07/01 00:01:00+00   \n",
       "1  Station 44  2011/07/01 00:05:00+00      Medical  2011/07/01 00:06:00+00   \n",
       "2   Station 3  2011/07/01 00:22:00+00         Fire  2011/07/01 00:24:00+00   \n",
       "3  Station 10  2011/07/01 00:22:00+00      Medical  2011/07/01 00:23:00+00   \n",
       "4       Other  2011/07/01 00:23:00+00  Public Need  2011/07/01 00:24:00+00   \n",
       "\n",
       "  First_Unit_Arrived                          Location  \\\n",
       "0      7/1/2011 0:06   S Maryland Pky  &  E Carson Ave   \n",
       "1      7/1/2011 0:12     100 block of Lotus Blossom Ct   \n",
       "2      7/1/2011 0:27  N RANCHO DR  &  W WASHINGTON AVE   \n",
       "3      7/1/2011 0:29    2200 block of S Las Vegas Blvd   \n",
       "4      7/1/2011 0:31     7300 block of Breezy Night Ct   \n",
       "\n",
       "                    Location_1  \n",
       "0  (36.16462708, -115.1334076)  \n",
       "1  (36.17433167, -115.2525711)  \n",
       "2  (36.18107986, -115.1791687)  \n",
       "3   (36.1462059, -115.1557083)  \n",
       "4   (36.2447052, -115.2542267)  "
      ]
     },
     "execution_count": 68,
     "metadata": {},
     "output_type": "execute_result"
    }
   ],
   "source": [
    "incident_file_clean_df.head()"
   ]
  },
  {
   "cell_type": "code",
   "execution_count": 69,
   "id": "25cfe437",
   "metadata": {},
   "outputs": [
    {
     "name": "stderr",
     "output_type": "stream",
     "text": [
      "<ipython-input-69-d6c3b4e438cf>:1: SettingWithCopyWarning: \n",
      "A value is trying to be set on a copy of a slice from a DataFrame.\n",
      "Try using .loc[row_indexer,col_indexer] = value instead\n",
      "\n",
      "See the caveats in the documentation: https://pandas.pydata.org/pandas-docs/stable/user_guide/indexing.html#returning-a-view-versus-a-copy\n",
      "  incident_file_clean_df[\"Assigned Time\"] = \"TBD\"\n"
     ]
    }
   ],
   "source": [
    "incident_file_clean_df[\"Assigned Time\"] = \"TBD\""
   ]
  },
  {
   "cell_type": "code",
   "execution_count": 70,
   "id": "9926b54f",
   "metadata": {},
   "outputs": [
    {
     "data": {
      "text/html": [
       "<div>\n",
       "<style scoped>\n",
       "    .dataframe tbody tr th:only-of-type {\n",
       "        vertical-align: middle;\n",
       "    }\n",
       "\n",
       "    .dataframe tbody tr th {\n",
       "        vertical-align: top;\n",
       "    }\n",
       "\n",
       "    .dataframe thead th {\n",
       "        text-align: right;\n",
       "    }\n",
       "</style>\n",
       "<table border=\"1\" class=\"dataframe\">\n",
       "  <thead>\n",
       "    <tr style=\"text-align: right;\">\n",
       "      <th></th>\n",
       "      <th>Station</th>\n",
       "      <th>Response_Date</th>\n",
       "      <th>Event_Type</th>\n",
       "      <th>First_Unit_Assigned</th>\n",
       "      <th>First_Unit_Arrived</th>\n",
       "      <th>Location</th>\n",
       "      <th>Location_1</th>\n",
       "      <th>Assigned Time</th>\n",
       "    </tr>\n",
       "  </thead>\n",
       "  <tbody>\n",
       "    <tr>\n",
       "      <th>0</th>\n",
       "      <td>Station 4</td>\n",
       "      <td>2011/07/01 00:00:00+00</td>\n",
       "      <td>Medical</td>\n",
       "      <td>2011/07/01 00:01:00+00</td>\n",
       "      <td>7/1/2011 0:06</td>\n",
       "      <td>S Maryland Pky  &amp;  E Carson Ave</td>\n",
       "      <td>(36.16462708, -115.1334076)</td>\n",
       "      <td>TBD</td>\n",
       "    </tr>\n",
       "    <tr>\n",
       "      <th>1</th>\n",
       "      <td>Station 44</td>\n",
       "      <td>2011/07/01 00:05:00+00</td>\n",
       "      <td>Medical</td>\n",
       "      <td>2011/07/01 00:06:00+00</td>\n",
       "      <td>7/1/2011 0:12</td>\n",
       "      <td>100 block of Lotus Blossom Ct</td>\n",
       "      <td>(36.17433167, -115.2525711)</td>\n",
       "      <td>TBD</td>\n",
       "    </tr>\n",
       "    <tr>\n",
       "      <th>2</th>\n",
       "      <td>Station 3</td>\n",
       "      <td>2011/07/01 00:22:00+00</td>\n",
       "      <td>Fire</td>\n",
       "      <td>2011/07/01 00:24:00+00</td>\n",
       "      <td>7/1/2011 0:27</td>\n",
       "      <td>N RANCHO DR  &amp;  W WASHINGTON AVE</td>\n",
       "      <td>(36.18107986, -115.1791687)</td>\n",
       "      <td>TBD</td>\n",
       "    </tr>\n",
       "    <tr>\n",
       "      <th>3</th>\n",
       "      <td>Station 10</td>\n",
       "      <td>2011/07/01 00:22:00+00</td>\n",
       "      <td>Medical</td>\n",
       "      <td>2011/07/01 00:23:00+00</td>\n",
       "      <td>7/1/2011 0:29</td>\n",
       "      <td>2200 block of S Las Vegas Blvd</td>\n",
       "      <td>(36.1462059, -115.1557083)</td>\n",
       "      <td>TBD</td>\n",
       "    </tr>\n",
       "    <tr>\n",
       "      <th>4</th>\n",
       "      <td>Other</td>\n",
       "      <td>2011/07/01 00:23:00+00</td>\n",
       "      <td>Public Need</td>\n",
       "      <td>2011/07/01 00:24:00+00</td>\n",
       "      <td>7/1/2011 0:31</td>\n",
       "      <td>7300 block of Breezy Night Ct</td>\n",
       "      <td>(36.2447052, -115.2542267)</td>\n",
       "      <td>TBD</td>\n",
       "    </tr>\n",
       "  </tbody>\n",
       "</table>\n",
       "</div>"
      ],
      "text/plain": [
       "      Station           Response_Date   Event_Type     First_Unit_Assigned  \\\n",
       "0   Station 4  2011/07/01 00:00:00+00      Medical  2011/07/01 00:01:00+00   \n",
       "1  Station 44  2011/07/01 00:05:00+00      Medical  2011/07/01 00:06:00+00   \n",
       "2   Station 3  2011/07/01 00:22:00+00         Fire  2011/07/01 00:24:00+00   \n",
       "3  Station 10  2011/07/01 00:22:00+00      Medical  2011/07/01 00:23:00+00   \n",
       "4       Other  2011/07/01 00:23:00+00  Public Need  2011/07/01 00:24:00+00   \n",
       "\n",
       "  First_Unit_Arrived                          Location  \\\n",
       "0      7/1/2011 0:06   S Maryland Pky  &  E Carson Ave   \n",
       "1      7/1/2011 0:12     100 block of Lotus Blossom Ct   \n",
       "2      7/1/2011 0:27  N RANCHO DR  &  W WASHINGTON AVE   \n",
       "3      7/1/2011 0:29    2200 block of S Las Vegas Blvd   \n",
       "4      7/1/2011 0:31     7300 block of Breezy Night Ct   \n",
       "\n",
       "                    Location_1 Assigned Time  \n",
       "0  (36.16462708, -115.1334076)           TBD  \n",
       "1  (36.17433167, -115.2525711)           TBD  \n",
       "2  (36.18107986, -115.1791687)           TBD  \n",
       "3   (36.1462059, -115.1557083)           TBD  \n",
       "4   (36.2447052, -115.2542267)           TBD  "
      ]
     },
     "execution_count": 70,
     "metadata": {},
     "output_type": "execute_result"
    }
   ],
   "source": [
    "incident_file_clean_df.head()"
   ]
  },
  {
   "cell_type": "code",
   "execution_count": null,
   "id": "98a8ebb4",
   "metadata": {},
   "outputs": [],
   "source": []
  },
  {
   "cell_type": "markdown",
   "id": "6c939907",
   "metadata": {},
   "source": [
    "PROCESS FIRE STATION DATA"
   ]
  },
  {
   "cell_type": "code",
   "execution_count": 84,
   "id": "e4ca358d",
   "metadata": {},
   "outputs": [
    {
     "name": "stdout",
     "output_type": "stream",
     "text": [
      "# of rows in the Station data file: 89\n"
     ]
    }
   ],
   "source": [
    "# Bring-in fire station data\n",
    "station_df = pd.read_csv(fire_station_data)\n",
    "print(f\"# of rows in the Station data file: {len(station_df)}\")\n",
    "#station_df.head()"
   ]
  },
  {
   "cell_type": "code",
   "execution_count": 83,
   "id": "bebb1a27",
   "metadata": {},
   "outputs": [],
   "source": [
    "distinct_stations = incident_file_clean_df[\"Station\"].unique()\n",
    "clv_stations_df = station_df[station_df[\"CITY_CODE\"] == \"CLV\"]\n",
    "#clv_stations_df\n"
   ]
  },
  {
   "cell_type": "code",
   "execution_count": null,
   "id": "3dfcdd75",
   "metadata": {},
   "outputs": [],
   "source": []
  }
 ],
 "metadata": {
  "kernelspec": {
   "display_name": "Python 3",
   "language": "python",
   "name": "python3"
  },
  "language_info": {
   "codemirror_mode": {
    "name": "ipython",
    "version": 3
   },
   "file_extension": ".py",
   "mimetype": "text/x-python",
   "name": "python",
   "nbconvert_exporter": "python",
   "pygments_lexer": "ipython3",
   "version": "3.8.8"
  }
 },
 "nbformat": 4,
 "nbformat_minor": 5
}
